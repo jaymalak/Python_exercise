{
  "nbformat": 4,
  "nbformat_minor": 0,
  "metadata": {
    "colab": {
      "name": "stringpract.ipynb",
      "provenance": [],
      "collapsed_sections": [],
      "include_colab_link": true
    },
    "kernelspec": {
      "name": "python3",
      "display_name": "Python 3"
    }
  },
  "cells": [
    {
      "cell_type": "markdown",
      "metadata": {
        "id": "view-in-github",
        "colab_type": "text"
      },
      "source": [
        "<a href=\"https://colab.research.google.com/github/jaymalak/Python_exercise/blob/master/stringpract.ipynb\" target=\"_parent\"><img src=\"https://colab.research.google.com/assets/colab-badge.svg\" alt=\"Open In Colab\"/></a>"
      ]
    },
    {
      "cell_type": "code",
      "metadata": {
        "id": "nAzHduRM5rLs",
        "colab_type": "code",
        "colab": {
          "base_uri": "https://localhost:8080/",
          "height": 367
        },
        "outputId": "d982d9bb-91d1-42ff-988c-b2d4c4275377"
      },
      "source": [
        "# Python3 code to demonstrate \n",
        "# Extracting numbers from list of strings \n",
        "# using list comprehension + split() \n",
        "\n",
        "# initializing list \n",
        "##test_list = ['Rs. 24', 'Rs. 18', 'Rs. 8', 'Rs. 21'] \n",
        "test_list = [' 67 to 89', ' 36-48', ' 67 to 89'] \n",
        "\n",
        "# printing original list \n",
        "print(\"The original list : \" + str(test_list)) \n",
        "\n",
        "# using list comprehension + split() \n",
        "# Extracting numbers from list of strings \n",
        "res = [int(sub.split('-')[1]) for sub in test_list] \n",
        "\n",
        "# print result \n",
        "print(\"The list after Extracting numbers : \" + str(res)) \n"
      ],
      "execution_count": 41,
      "outputs": [
        {
          "output_type": "stream",
          "text": [
            "The original list : [' 67 to 89', ' 36-48', ' 67 to 89']\n"
          ],
          "name": "stdout"
        },
        {
          "output_type": "error",
          "ename": "IndexError",
          "evalue": "ignored",
          "traceback": [
            "\u001b[0;31m---------------------------------------------------------------------------\u001b[0m",
            "\u001b[0;31mIndexError\u001b[0m                                Traceback (most recent call last)",
            "\u001b[0;32m<ipython-input-41-27e1841ffe98>\u001b[0m in \u001b[0;36m<module>\u001b[0;34m()\u001b[0m\n\u001b[1;32m      6\u001b[0m \u001b[0;31m# using list comprehension + split()\u001b[0m\u001b[0;34m\u001b[0m\u001b[0;34m\u001b[0m\u001b[0;34m\u001b[0m\u001b[0m\n\u001b[1;32m      7\u001b[0m \u001b[0;31m# Extracting numbers from list of strings\u001b[0m\u001b[0;34m\u001b[0m\u001b[0;34m\u001b[0m\u001b[0;34m\u001b[0m\u001b[0m\n\u001b[0;32m----> 8\u001b[0;31m \u001b[0mres\u001b[0m \u001b[0;34m=\u001b[0m \u001b[0;34m[\u001b[0m\u001b[0mint\u001b[0m\u001b[0;34m(\u001b[0m\u001b[0msub\u001b[0m\u001b[0;34m.\u001b[0m\u001b[0msplit\u001b[0m\u001b[0;34m(\u001b[0m\u001b[0;34m'-'\u001b[0m\u001b[0;34m)\u001b[0m\u001b[0;34m[\u001b[0m\u001b[0;36m1\u001b[0m\u001b[0;34m]\u001b[0m\u001b[0;34m)\u001b[0m \u001b[0;32mfor\u001b[0m \u001b[0msub\u001b[0m \u001b[0;32min\u001b[0m \u001b[0mtest_list\u001b[0m\u001b[0;34m]\u001b[0m\u001b[0;34m\u001b[0m\u001b[0;34m\u001b[0m\u001b[0m\n\u001b[0m\u001b[1;32m      9\u001b[0m \u001b[0;34m\u001b[0m\u001b[0m\n\u001b[1;32m     10\u001b[0m \u001b[0;31m# print result\u001b[0m\u001b[0;34m\u001b[0m\u001b[0;34m\u001b[0m\u001b[0;34m\u001b[0m\u001b[0m\n",
            "\u001b[0;32m<ipython-input-41-27e1841ffe98>\u001b[0m in \u001b[0;36m<listcomp>\u001b[0;34m(.0)\u001b[0m\n\u001b[1;32m      6\u001b[0m \u001b[0;31m# using list comprehension + split()\u001b[0m\u001b[0;34m\u001b[0m\u001b[0;34m\u001b[0m\u001b[0;34m\u001b[0m\u001b[0m\n\u001b[1;32m      7\u001b[0m \u001b[0;31m# Extracting numbers from list of strings\u001b[0m\u001b[0;34m\u001b[0m\u001b[0;34m\u001b[0m\u001b[0;34m\u001b[0m\u001b[0m\n\u001b[0;32m----> 8\u001b[0;31m \u001b[0mres\u001b[0m \u001b[0;34m=\u001b[0m \u001b[0;34m[\u001b[0m\u001b[0mint\u001b[0m\u001b[0;34m(\u001b[0m\u001b[0msub\u001b[0m\u001b[0;34m.\u001b[0m\u001b[0msplit\u001b[0m\u001b[0;34m(\u001b[0m\u001b[0;34m'-'\u001b[0m\u001b[0;34m)\u001b[0m\u001b[0;34m[\u001b[0m\u001b[0;36m1\u001b[0m\u001b[0;34m]\u001b[0m\u001b[0;34m)\u001b[0m \u001b[0;32mfor\u001b[0m \u001b[0msub\u001b[0m \u001b[0;32min\u001b[0m \u001b[0mtest_list\u001b[0m\u001b[0;34m]\u001b[0m\u001b[0;34m\u001b[0m\u001b[0;34m\u001b[0m\u001b[0m\n\u001b[0m\u001b[1;32m      9\u001b[0m \u001b[0;34m\u001b[0m\u001b[0m\n\u001b[1;32m     10\u001b[0m \u001b[0;31m# print result\u001b[0m\u001b[0;34m\u001b[0m\u001b[0;34m\u001b[0m\u001b[0;34m\u001b[0m\u001b[0m\n",
            "\u001b[0;31mIndexError\u001b[0m: list index out of range"
          ]
        }
      ]
    },
    {
      "cell_type": "code",
      "metadata": {
        "id": "czhAIYEh5xJl",
        "colab_type": "code",
        "colab": {
          "base_uri": "https://localhost:8080/",
          "height": 231
        },
        "outputId": "5a807109-9ef3-4251-a7ab-b737eaa5641c"
      },
      "source": [
        "# Python3 code to demonstrate \n",
        "# Extracting numbers from list of strings \n",
        "# using join() + isnumeric() + list comprehension + map() \n",
        "\n",
        "# initializing list \n",
        "test_list = [' 67 to 89', ' 36-48', ' 67 to 89']\n",
        "\n",
        "# printing original list \n",
        "print(\"The original list : \" + str(test_list)) \n",
        "\n",
        "# using join() + isnumeric() + list comprehension + map() \n",
        "# Extracting numbers from list of strings \n",
        "res = list(map(lambda sub:int(''.join( \n",
        "\t[ele for ele in sub if ele.isnumeric()])), test_list)) \n",
        "\n",
        "# print result \n",
        "print(\"The list after Extracting numbers : \" + str(res)) \n",
        "fstr = str(res)\n",
        "print(text.index(fstr,0,1))\n"
      ],
      "execution_count": 44,
      "outputs": [
        {
          "output_type": "stream",
          "text": [
            "The original list : [' 67 to 89', ' 36-48', ' 67 to 89']\n",
            "The list after Extracting numbers : [6789, 3648, 6789]\n"
          ],
          "name": "stdout"
        },
        {
          "output_type": "error",
          "ename": "ValueError",
          "evalue": "ignored",
          "traceback": [
            "\u001b[0;31m---------------------------------------------------------------------------\u001b[0m",
            "\u001b[0;31mValueError\u001b[0m                                Traceback (most recent call last)",
            "\u001b[0;32m<ipython-input-44-eec50c96f5ee>\u001b[0m in \u001b[0;36m<module>\u001b[0;34m()\u001b[0m\n\u001b[1;32m     12\u001b[0m \u001b[0mprint\u001b[0m\u001b[0;34m(\u001b[0m\u001b[0;34m\"The list after Extracting numbers : \"\u001b[0m \u001b[0;34m+\u001b[0m \u001b[0mstr\u001b[0m\u001b[0;34m(\u001b[0m\u001b[0mres\u001b[0m\u001b[0;34m)\u001b[0m\u001b[0;34m)\u001b[0m\u001b[0;34m\u001b[0m\u001b[0;34m\u001b[0m\u001b[0m\n\u001b[1;32m     13\u001b[0m \u001b[0mfstr\u001b[0m \u001b[0;34m=\u001b[0m \u001b[0mstr\u001b[0m\u001b[0;34m(\u001b[0m\u001b[0mres\u001b[0m\u001b[0;34m)\u001b[0m\u001b[0;34m\u001b[0m\u001b[0;34m\u001b[0m\u001b[0m\n\u001b[0;32m---> 14\u001b[0;31m \u001b[0mprint\u001b[0m\u001b[0;34m(\u001b[0m\u001b[0mtext\u001b[0m\u001b[0;34m.\u001b[0m\u001b[0mindex\u001b[0m\u001b[0;34m(\u001b[0m\u001b[0mfstr\u001b[0m\u001b[0;34m,\u001b[0m\u001b[0;36m0\u001b[0m\u001b[0;34m,\u001b[0m\u001b[0;36m1\u001b[0m\u001b[0;34m)\u001b[0m\u001b[0;34m)\u001b[0m\u001b[0;34m\u001b[0m\u001b[0;34m\u001b[0m\u001b[0m\n\u001b[0m",
            "\u001b[0;31mValueError\u001b[0m: substring not found"
          ]
        }
      ]
    },
    {
      "cell_type": "code",
      "metadata": {
        "id": "BKB2097x6NVY",
        "colab_type": "code",
        "colab": {
          "base_uri": "https://localhost:8080/",
          "height": 68
        },
        "outputId": "4813d651-9a78-4ee7-c464-0b9bb9254831"
      },
      "source": [
        "word = 'CHANDRAPUR -Rev 3 blk 67 to 96 ICQ and BD by SLDC 67 to 89'\n",
        "\n",
        "# returns first occurrence of Substring \n",
        "result = word.find('96') \n",
        "print (\"Substring 'to' found at index:\", result ) \n",
        "\n",
        "result = word.find('ICQ') \n",
        "print (\"Substring 'for ' found at index:\", result ) \n",
        "\n",
        "# How to use find() \n",
        "if (word.find('pawan') != -1): \n",
        "\tprint (\"Contains given substring \") \n",
        "else: \n",
        "\tprint (\"Doesn't contains given substring\") \n"
      ],
      "execution_count": 20,
      "outputs": [
        {
          "output_type": "stream",
          "text": [
            "Substring 'to' found at index: 28\n",
            "Substring 'for ' found at index: 31\n",
            "Doesn't contains given substring\n"
          ],
          "name": "stdout"
        }
      ]
    },
    {
      "cell_type": "code",
      "metadata": {
        "id": "8if9NP2i7ggU",
        "colab_type": "code",
        "colab": {
          "base_uri": "https://localhost:8080/",
          "height": 51
        },
        "outputId": "d36e354d-5a75-4255-e00b-1cebdc7e8bea"
      },
      "source": [
        "# Python3 code to demonstrate working of \n",
        "# Convert list to Python array \n",
        "# Using array() + data type indicator \n",
        "from array import array \n",
        "\n",
        "# initializing list \n",
        "test_list = [6, 4, 8, 9, 10] \n",
        "\n",
        "# printing list \n",
        "print(\"The original list : \" + str(test_list)) \n",
        "\n",
        "# Convert list to Python array \n",
        "# Using array() + data type indicator \n",
        "res = array(\"i\", test_list) \n",
        "\n",
        "# Printing result \n",
        "print(\"List after conversion to array : \" + str(res)) \n"
      ],
      "execution_count": 11,
      "outputs": [
        {
          "output_type": "stream",
          "text": [
            "The original list : [6, 4, 8, 9, 10]\n",
            "List after conversion to array : array('i', [6, 4, 8, 9, 10])\n"
          ],
          "name": "stdout"
        }
      ]
    },
    {
      "cell_type": "code",
      "metadata": {
        "id": "XTEh-PzACf_z",
        "colab_type": "code",
        "colab": {
          "base_uri": "https://localhost:8080/",
          "height": 34
        },
        "outputId": "37821402-a82e-48de-e2ad-8bf677111ee1"
      },
      "source": [
        "import re\n",
        "test_number = 67\n",
        "str1=\"CHANDRAPUR -Rev 3 blk 67 to 96 ICQ and BD by SLDC 67 to 89\"\n",
        "x= re.search(\"{}\".format(test_number),str1).group()\n",
        "print (x)"
      ],
      "execution_count": 23,
      "outputs": [
        {
          "output_type": "stream",
          "text": [
            "67\n"
          ],
          "name": "stdout"
        }
      ]
    },
    {
      "cell_type": "code",
      "metadata": {
        "id": "KrfMIExQF9Wj",
        "colab_type": "code",
        "colab": {}
      },
      "source": [
        "def checkInt(value):\n",
        "    try:\n",
        "        int(value)\n",
        "        return True\n",
        "    except ValueError:\n",
        "        return False\n",
        "\n",
        "test_num = 67\n",
        "x = \"CHANDRAPUR -Rev 3 blk 67 to 96 ICQ and BD by SLDC 67 to 89\"\n",
        "y = x.split(\"to\")\n",
        "z = y[1].split(\"_\")\n",
        "if checkInt(z[0]) == True:\n",
        "    num = int(z[0])\n",
        "    if num == test_num:\n",
        "        ####do something ####\n",
        "        print('hi')"
      ],
      "execution_count": 0,
      "outputs": []
    },
    {
      "cell_type": "code",
      "metadata": {
        "id": "PmMgxPlwHGs2",
        "colab_type": "code",
        "colab": {
          "base_uri": "https://localhost:8080/",
          "height": 34
        },
        "outputId": "d4446ce4-cdd8-41fa-d7f6-2dd92fdfc4b7"
      },
      "source": [
        "import re\n",
        "\n",
        "s = 'asdf=5;iwantthis123jasd'\n",
        "result = re.search('asdf=5;(.*)123jasd', s)\n",
        "print(result.group(1))\n"
      ],
      "execution_count": 26,
      "outputs": [
        {
          "output_type": "stream",
          "text": [
            "iwantthis\n"
          ],
          "name": "stdout"
        }
      ]
    },
    {
      "cell_type": "code",
      "metadata": {
        "id": "FbigeH_whDZm",
        "colab_type": "code",
        "colab": {
          "base_uri": "https://localhost:8080/",
          "height": 34
        },
        "outputId": "2c309e45-a488-4778-a016-29dd54aa3cfc"
      },
      "source": [
        "text = 'I want to find a string between two substrings'\n",
        "left = 'find a '\n",
        "right = 'between two'\n",
        "\n",
        "print(text[text.index(left)+len(left):text.index(right)])\n"
      ],
      "execution_count": 27,
      "outputs": [
        {
          "output_type": "stream",
          "text": [
            "string \n"
          ],
          "name": "stdout"
        }
      ]
    },
    {
      "cell_type": "code",
      "metadata": {
        "id": "Do2O8ewz2p4v",
        "colab_type": "code",
        "colab": {
          "base_uri": "https://localhost:8080/",
          "height": 34
        },
        "outputId": "ea537436-c2c7-40c1-8dea-8c27e5989e23"
      },
      "source": [
        "text = 'CHANDRAPUR -BACKDOWN BY SLDC BLK 36-48'\n",
        "left = 'SLDC BLK'\n",
        "right = 'between two'\n",
        "\n",
        "##print(text[text.index(left)+len(left):text.index(right)])\n",
        "text[text.index(left)+len(left):len(text)]"
      ],
      "execution_count": 30,
      "outputs": [
        {
          "output_type": "execute_result",
          "data": {
            "text/plain": [
              "' 36-48'"
            ]
          },
          "metadata": {
            "tags": []
          },
          "execution_count": 30
        }
      ]
    },
    {
      "cell_type": "code",
      "metadata": {
        "id": "3HbDCNEE3DUm",
        "colab_type": "code",
        "colab": {
          "base_uri": "https://localhost:8080/",
          "height": 34
        },
        "outputId": "012eccb3-26c7-4374-9a0b-201f299f31ed"
      },
      "source": [
        "text = 'CHANDRAPUR -Rev 3 blk 67 to 96 ICQ and BD by SLDC 67 to 89'\n",
        "left = 'BD by SLDC'\n",
        "right = 'to'\n",
        "\n",
        "##print(text[text.index(left)+len(left):text.index(right)])\n",
        "text[text.index(left)+len(left):len(text)]"
      ],
      "execution_count": 34,
      "outputs": [
        {
          "output_type": "execute_result",
          "data": {
            "text/plain": [
              "' 67 to 89'"
            ]
          },
          "metadata": {
            "tags": []
          },
          "execution_count": 34
        }
      ]
    },
    {
      "cell_type": "code",
      "metadata": {
        "id": "tCqh5ZM038ol",
        "colab_type": "code",
        "colab": {
          "base_uri": "https://localhost:8080/",
          "height": 51
        },
        "outputId": "7a13f3dd-7f2e-4607-b9cf-3591ffc5ef1b"
      },
      "source": [
        "# Python3 code to demonstrate \n",
        "# Extracting numbers from list of strings \n",
        "# using join() + isnumeric() + list comprehension + map() \n",
        "\n",
        "# initializing list \n",
        "test_list = [' 67 to 89', ' 36-48', ' 67 to 89']\n",
        "\n",
        "# printing original list \n",
        "print(\"The original list : \" + str(test_list)) \n",
        "\n",
        "# using join() + isnumeric() + list comprehension + map() \n",
        "# Extracting numbers from list of strings \n",
        "res = list(map(lambda sub:int(''.join( \n",
        "\t[ele for ele in sub if ele.isnumeric()])), test_list)) \n",
        "\n",
        "# print result \n",
        "print(\"The list after Extracting numbers : \" + str(res)) \n",
        "fstr = str(res)\n"
      ],
      "execution_count": 45,
      "outputs": [
        {
          "output_type": "stream",
          "text": [
            "The original list : [' 67 to 89', ' 36-48', ' 67 to 89']\n",
            "The list after Extracting numbers : [6789, 3648, 6789]\n"
          ],
          "name": "stdout"
        }
      ]
    },
    {
      "cell_type": "code",
      "metadata": {
        "id": "_o1rZ5cqAHmV",
        "colab_type": "code",
        "colab": {}
      },
      "source": [
        ""
      ],
      "execution_count": 0,
      "outputs": []
    }
  ]
}