{
  "nbformat": 4,
  "nbformat_minor": 0,
  "metadata": {
    "colab": {
      "name": "Python_Basic_exercise.ipynb",
      "provenance": [],
      "collapsed_sections": [],
      "include_colab_link": true
    },
    "kernelspec": {
      "name": "python3",
      "display_name": "Python 3"
    }
  },
  "cells": [
    {
      "cell_type": "markdown",
      "metadata": {
        "id": "view-in-github",
        "colab_type": "text"
      },
      "source": [
        "<a href=\"https://colab.research.google.com/github/jaymalak/Python_exercise/blob/master/Python_Basic_exercise.ipynb\" target=\"_parent\"><img src=\"https://colab.research.google.com/assets/colab-badge.svg\" alt=\"Open In Colab\"/></a>"
      ]
    },
    {
      "cell_type": "markdown",
      "metadata": {
        "id": "4r4Aa03BBRzT",
        "colab_type": "text"
      },
      "source": [
        "INTRODUCTION -PYTHON Basic Part I Exercise. Thanks to https://www.w3resource.com/python-exercises/python-basic-exercises.php"
      ]
    },
    {
      "cell_type": "markdown",
      "metadata": {
        "id": "vsP8gE_5I7Dx",
        "colab_type": "text"
      },
      "source": [
        "Print Twinkle Twinkle Poem"
      ]
    },
    {
      "cell_type": "code",
      "metadata": {
        "id": "CjfZi3x7AuwE",
        "colab_type": "code",
        "outputId": "e7461d1e-3427-44eb-c6e5-260b0390a765",
        "colab": {
          "base_uri": "https://localhost:8080/",
          "height": 118
        }
      },
      "source": [
        "print(\"Twinkle, twinkle, little star, \\n\\t\\tHow I wonder what you are! \\n\\t\\tUp above the world so high, \\n\\t\\tLike a diamond in the sky. \\nTwinkle, twinkle, little star, \\n\\t\\tHow I wonder what you are!\")"
      ],
      "execution_count": 0,
      "outputs": [
        {
          "output_type": "stream",
          "text": [
            "Twinkle, twinkle, little star, \n",
            "\t\tHow I wonder what you are! \n",
            "\t\tUp above the world so high, \n",
            "\t\tLike a diamond in the sky. \n",
            "Twinkle, twinkle, little star, \n",
            "\t\tHow I wonder what you are!\n"
          ],
          "name": "stdout"
        }
      ]
    },
    {
      "cell_type": "markdown",
      "metadata": {
        "id": "TtdGbWqFJLeC",
        "colab_type": "text"
      },
      "source": [
        "Print Python version and Version Information"
      ]
    },
    {
      "cell_type": "code",
      "metadata": {
        "id": "J63PUFS9BQ2O",
        "colab_type": "code",
        "outputId": "8f7bdb51-96bb-4c81-d872-6c55b23cfa60",
        "colab": {
          "base_uri": "https://localhost:8080/",
          "height": 50
        }
      },
      "source": [
        "import sys\n",
        "print(\"Version & Version Information  :\", sys.version, sys.version_info )"
      ],
      "execution_count": 0,
      "outputs": [
        {
          "output_type": "stream",
          "text": [
            "Version & Version Information  : 3.6.8 (default, Oct  7 2019, 12:59:55) \n",
            "[GCC 8.3.0] sys.version_info(major=3, minor=6, micro=8, releaselevel='final', serial=0)\n"
          ],
          "name": "stdout"
        }
      ]
    },
    {
      "cell_type": "markdown",
      "metadata": {
        "id": "nKmhMPaPJXSu",
        "colab_type": "text"
      },
      "source": [
        "Print Current Date and Time"
      ]
    },
    {
      "cell_type": "code",
      "metadata": {
        "id": "3kp6--k1BkJq",
        "colab_type": "code",
        "outputId": "58825787-18ba-42ba-8c09-8ac755429bf4",
        "colab": {
          "base_uri": "https://localhost:8080/",
          "height": 50
        }
      },
      "source": [
        "import datetime\n",
        "print(datetime.datetime.now())\n",
        "print(datetime.datetime.now().strftime(\"%Y-%m-%d %H:%M:%S\"))"
      ],
      "execution_count": 0,
      "outputs": [
        {
          "output_type": "stream",
          "text": [
            "2019-12-02 05:35:04.303360\n",
            "2019-12-02 05:35:04\n"
          ],
          "name": "stdout"
        }
      ]
    },
    {
      "cell_type": "code",
      "metadata": {
        "id": "O5wb8s37GNSa",
        "colab_type": "code",
        "outputId": "194867d1-321c-4207-87f8-2cdaa367f994",
        "colab": {
          "base_uri": "https://localhost:8080/",
          "height": 50
        }
      },
      "source": [
        "from math import pi\n",
        "r = float(input(\"Enter Radius : \"))\n",
        "area = round(pi * r ** 2)\n",
        "print(\"Area is :\",area)"
      ],
      "execution_count": 0,
      "outputs": [
        {
          "output_type": "stream",
          "text": [
            "Enter Radius : 5\n",
            "Area is : 79\n"
          ],
          "name": "stdout"
        }
      ]
    },
    {
      "cell_type": "markdown",
      "metadata": {
        "id": "q9jsnUleLNK4",
        "colab_type": "text"
      },
      "source": [
        "Write a Python program which accepts the user's first and last name and print them in reverse order with a space between them."
      ]
    },
    {
      "cell_type": "code",
      "metadata": {
        "id": "3yEmFur8Jj5x",
        "colab_type": "code",
        "outputId": "bf1bf774-4740-4525-837d-1c3d5348fcba",
        "colab": {
          "base_uri": "https://localhost:8080/",
          "height": 67
        }
      },
      "source": [
        "fname = input(\"Enter First Name : \")\n",
        "lname = input(\"Enter Last Name  : \")\n",
        "print(lname,\"\", fname)\n"
      ],
      "execution_count": 0,
      "outputs": [
        {
          "output_type": "stream",
          "text": [
            "Enter First Name : Jaymala\n",
            "Enter Last Name  : Kanagala\n",
            "Kanagala  Jaymala\n"
          ],
          "name": "stdout"
        }
      ]
    },
    {
      "cell_type": "markdown",
      "metadata": {
        "id": "dQPU9owSMNth",
        "colab_type": "text"
      },
      "source": [
        "Write a Python program which accepts a sequence of comma-separated numbers from user and generate a list and a tuple with those numbers"
      ]
    },
    {
      "cell_type": "code",
      "metadata": {
        "id": "znRW0ZAILOK9",
        "colab_type": "code",
        "outputId": "ad9e452f-ef6d-4203-f11d-92b51166da99",
        "colab": {
          "base_uri": "https://localhost:8080/",
          "height": 67
        }
      },
      "source": [
        "csvnum = input(\"Enter few number with comma separation  : \")\n",
        "clist = csvnum.split(\",\")\n",
        "print(\"List : \", clist)\n",
        "print(\"Tuple : \", tuple(clist))"
      ],
      "execution_count": 0,
      "outputs": [
        {
          "output_type": "stream",
          "text": [
            "Enter few number with comma separation  : 3,5,7,10,12,56.98\n",
            "List :  ['3', '5', '7', '10', '12', '56.98']\n",
            "Tuple :  ('3', '5', '7', '10', '12', '56.98')\n"
          ],
          "name": "stdout"
        }
      ]
    },
    {
      "cell_type": "markdown",
      "metadata": {
        "id": "NbfHBiXWSFLf",
        "colab_type": "text"
      },
      "source": [
        "Write a Python program to accept a filename from the user and print the extension of that"
      ]
    },
    {
      "cell_type": "code",
      "metadata": {
        "id": "YE4-U1ybQ2el",
        "colab_type": "code",
        "outputId": "5efb8699-7362-4238-b9f7-daeeb7d0ab01",
        "colab": {
          "base_uri": "https://localhost:8080/",
          "height": 50
        }
      },
      "source": [
        "filename = input(\"Enter filename with extension\")\n",
        "print(\"Extension of entered file is : \", (filename.split(\".\")[-1]))"
      ],
      "execution_count": 0,
      "outputs": [
        {
          "output_type": "stream",
          "text": [
            "Enter filename with extensionabc.java\n",
            "Extension of entered file is :  java\n"
          ],
          "name": "stdout"
        }
      ]
    },
    {
      "cell_type": "markdown",
      "metadata": {
        "id": "-hFS3d16TvbF",
        "colab_type": "text"
      },
      "source": [
        "Write a Python program to display the first and last colors from the following list. color_list = [\"Red\",\"Green\",\"White\" ,\"Black\"]"
      ]
    },
    {
      "cell_type": "code",
      "metadata": {
        "id": "jSeeSQ7USthV",
        "colab_type": "code",
        "outputId": "b0e39ab5-933f-4c66-842d-bd51587caeca",
        "colab": {
          "base_uri": "https://localhost:8080/",
          "height": 34
        }
      },
      "source": [
        "color_list = [\"Red\",\"Green\",\"White\" ,\"Black\"]\n",
        "print(color_list[0], color_list[-1])"
      ],
      "execution_count": 0,
      "outputs": [
        {
          "output_type": "stream",
          "text": [
            "Red Black\n"
          ],
          "name": "stdout"
        }
      ]
    },
    {
      "cell_type": "markdown",
      "metadata": {
        "id": "6pnJp7q8VsCV",
        "colab_type": "text"
      },
      "source": [
        "Write a Python program to display the examination schedule. (extract the date from exam_st_date)"
      ]
    },
    {
      "cell_type": "code",
      "metadata": {
        "id": "rBrVz9LTVWLt",
        "colab_type": "code",
        "outputId": "9b0c786a-0369-4e83-d473-1eca1b0088aa",
        "colab": {
          "base_uri": "https://localhost:8080/",
          "height": 34
        }
      },
      "source": [
        "exam_st_date = (11, 12, 2014)\n",
        "print(\"Exam will start from : %i / %i / %i\"%exam_st_date)"
      ],
      "execution_count": 0,
      "outputs": [
        {
          "output_type": "stream",
          "text": [
            "Exam will start from : 11 / 12 / 2014\n"
          ],
          "name": "stdout"
        }
      ]
    },
    {
      "cell_type": "markdown",
      "metadata": {
        "id": "tXs1DNWnWuxV",
        "colab_type": "text"
      },
      "source": [
        "Write a Python program that accepts an integer (n) and computes the value of n+nn+nnn."
      ]
    },
    {
      "cell_type": "code",
      "metadata": {
        "id": "KndJyTZIVstH",
        "colab_type": "code",
        "outputId": "34889ba5-8e79-4cd8-989b-9e76885e30dd",
        "colab": {
          "base_uri": "https://localhost:8080/",
          "height": 50
        }
      },
      "source": [
        "n = int(input(\"Enter number :\"))\n",
        "n1 = int(\"%s%s\" %(n,n))\n",
        "n2 = int(\"%s%s%s\" %(n,n,n))\n",
        "print(\"Value :\", n+n1+n2)"
      ],
      "execution_count": 0,
      "outputs": [
        {
          "output_type": "stream",
          "text": [
            "Enter number :5\n",
            "Value : 615\n"
          ],
          "name": "stdout"
        }
      ]
    },
    {
      "cell_type": "markdown",
      "metadata": {
        "id": "caaRx3gd_nqq",
        "colab_type": "text"
      },
      "source": [
        "Write a Python program to print the documents (syntax, description etc.) of Python built-in function(s)"
      ]
    },
    {
      "cell_type": "code",
      "metadata": {
        "id": "tJLxet7cXE57",
        "colab_type": "code",
        "outputId": "2e670058-986e-49fb-ebfe-e7b3a7a1fb9f",
        "colab": {
          "base_uri": "https://localhost:8080/",
          "height": 34
        }
      },
      "source": [
        "print(abs.__doc__)"
      ],
      "execution_count": 0,
      "outputs": [
        {
          "output_type": "stream",
          "text": [
            "Return the absolute value of the argument.\n"
          ],
          "name": "stdout"
        }
      ]
    },
    {
      "cell_type": "markdown",
      "metadata": {
        "id": "vVQxrx9jAmI9",
        "colab_type": "text"
      },
      "source": [
        "Write a Python program to print the calendar of a given month and year."
      ]
    },
    {
      "cell_type": "code",
      "metadata": {
        "id": "-sKEgvl9ASzg",
        "colab_type": "code",
        "outputId": "71d371e7-b3cf-450f-c044-a95cfcf7cc28",
        "colab": {
          "base_uri": "https://localhost:8080/",
          "height": 202
        }
      },
      "source": [
        "import calendar\n",
        "mmonth=int(input(\"Enter Month :\"))\n",
        "yyear = int(input(\"Enter Year : \"))\n",
        "print(calendar.month(yyear,mmonth))"
      ],
      "execution_count": 0,
      "outputs": [
        {
          "output_type": "stream",
          "text": [
            "Enter Month :12\n",
            "Enter Year : 2019\n",
            "   December 2019\n",
            "Mo Tu We Th Fr Sa Su\n",
            "                   1\n",
            " 2  3  4  5  6  7  8\n",
            " 9 10 11 12 13 14 15\n",
            "16 17 18 19 20 21 22\n",
            "23 24 25 26 27 28 29\n",
            "30 31\n",
            "\n"
          ],
          "name": "stdout"
        }
      ]
    },
    {
      "cell_type": "markdown",
      "metadata": {
        "id": "jfutlXJmG-4k",
        "colab_type": "text"
      },
      "source": [
        "Write a Python program to print the following here document."
      ]
    },
    {
      "cell_type": "code",
      "metadata": {
        "id": "R0rcvsfXAtXo",
        "colab_type": "code",
        "outputId": "300f4302-c83a-4fb0-f95c-61a8dbc6ae31",
        "colab": {
          "base_uri": "https://localhost:8080/",
          "height": 118
        }
      },
      "source": [
        "print(\"\"\"\n",
        "a string that you \"don't\" have to escape\n",
        "This\n",
        "is a  ....... multi-line\n",
        "heredoc string --------> example\n",
        "\"\"\")"
      ],
      "execution_count": 0,
      "outputs": [
        {
          "output_type": "stream",
          "text": [
            "\n",
            "a string that you \"don't\" have to escape\n",
            "This\n",
            "is a  ....... multi-line\n",
            "heredoc string --------> example\n",
            "\n"
          ],
          "name": "stdout"
        }
      ]
    },
    {
      "cell_type": "markdown",
      "metadata": {
        "id": "f3gS50h6IYGn",
        "colab_type": "text"
      },
      "source": [
        "Write a Python program to calculate number of days between two dates."
      ]
    },
    {
      "cell_type": "code",
      "metadata": {
        "id": "vfaOhFSJHIBG",
        "colab_type": "code",
        "outputId": "39173780-e3de-4100-8742-3695cd8e3088",
        "colab": {
          "base_uri": "https://localhost:8080/",
          "height": 67
        }
      },
      "source": [
        "import datetime\n",
        "d1=input(\"Enter From Date (yyyy-mm-dd)  :\")\n",
        "d2 = input(\"Enter To Date (yyyy-mm-dd)  :\")\n",
        "year, month, day = map(int, d1.split('-'))\n",
        "date1 = datetime.date(year, month, day)\n",
        "year1, month1, day1 = map(int, d2.split('-'))\n",
        "date2 = datetime.date(year1, month1, day1)\n",
        "diff = date2 - date1\n",
        "print(diff)"
      ],
      "execution_count": 0,
      "outputs": [
        {
          "output_type": "stream",
          "text": [
            "Enter From Date (yyyy-mm-dd)  :2014-07-02\n",
            "Enter To Date (yyyy-mm-dd)  :2015-07-02\n",
            "365 days, 0:00:00\n"
          ],
          "name": "stdout"
        }
      ]
    },
    {
      "cell_type": "markdown",
      "metadata": {
        "id": "QxU_Q27BZyTK",
        "colab_type": "text"
      },
      "source": [
        "Write a Python program to get the volume of a sphere with radius 6."
      ]
    },
    {
      "cell_type": "code",
      "metadata": {
        "id": "nSZdit1pI5xt",
        "colab_type": "code",
        "outputId": "bf160cf3-4624-4f93-bd07-0d8fcfa1db8f",
        "colab": {
          "base_uri": "https://localhost:8080/",
          "height": 34
        }
      },
      "source": [
        "pi = 3.14\n",
        "r = 6\n",
        "vol = 4/3 *pi*r**3\n",
        "print(\"Volume of Sphere is  : \",round(vol))"
      ],
      "execution_count": 0,
      "outputs": [
        {
          "output_type": "stream",
          "text": [
            "Volume of Sphere is  :  904\n"
          ],
          "name": "stdout"
        }
      ]
    },
    {
      "cell_type": "markdown",
      "metadata": {
        "id": "VUtjNrywad6B",
        "colab_type": "text"
      },
      "source": [
        "Write a Python program to get the difference between a given number and 17, if the number is greater than 17 return double the absolute difference."
      ]
    },
    {
      "cell_type": "code",
      "metadata": {
        "id": "x1G3fnKdZy-N",
        "colab_type": "code",
        "outputId": "b5c98a4e-e419-4f49-cb78-f0a69b39179a",
        "colab": {
          "base_uri": "https://localhost:8080/",
          "height": 50
        }
      },
      "source": [
        "inu = int(input(\"Enter Number : \"))\n",
        "if inu <= 17:\n",
        "        print(17 - inu)\n",
        "else:\n",
        "        print((inu - 17) * 2 )\n",
        "    \n"
      ],
      "execution_count": 0,
      "outputs": [
        {
          "output_type": "stream",
          "text": [
            "Enter Number : 14\n",
            "3\n"
          ],
          "name": "stdout"
        }
      ]
    },
    {
      "cell_type": "markdown",
      "metadata": {
        "id": "y-lwZZUpbxV1",
        "colab_type": "text"
      },
      "source": [
        "17. Write a Python program to test whether a number is within 100 of 1000 or 2000"
      ]
    },
    {
      "cell_type": "code",
      "metadata": {
        "id": "JkAyqmf-byc2",
        "colab_type": "code",
        "outputId": "164a7934-1dca-4b4a-cd08-7a87233c710b",
        "colab": {
          "base_uri": "https://localhost:8080/",
          "height": 101
        }
      },
      "source": [
        "def nth_two(n) :\n",
        "     if (abs(n) -1000) <= 100 :\n",
        "        return(\"Near 1000\")\n",
        "     elif (abs(n) - 1000) <= 2000 :\n",
        "        return(\"Near 2000\")\n",
        "     else :\n",
        "        return(\"Not near 1000 or 2000\")\n",
        "\n",
        "print(nth_two(1000))\n",
        "print(nth_two(2000))\n",
        "print(nth_two(100))\n",
        "print(nth_two(800))\n",
        "print(nth_two(5000))"
      ],
      "execution_count": 0,
      "outputs": [
        {
          "output_type": "stream",
          "text": [
            "Near 1000\n",
            "Near 2000\n",
            "Near 1000\n",
            "Near 1000\n",
            "Not near 1000 or 2000\n"
          ],
          "name": "stdout"
        }
      ]
    },
    {
      "cell_type": "markdown",
      "metadata": {
        "id": "V_5UKwWFKvhN",
        "colab_type": "text"
      },
      "source": [
        "Write a Python program to calculate the sum of three given numbers, if the values are equal then return three times of their sum"
      ]
    },
    {
      "cell_type": "code",
      "metadata": {
        "id": "ErvH_yN4I9DW",
        "colab_type": "code",
        "outputId": "e33fa872-cf30-41a8-fe98-c15bd6453bbb",
        "colab": {
          "base_uri": "https://localhost:8080/",
          "height": 50
        }
      },
      "source": [
        "def sum_num(p, q,r) :\n",
        "   ssum = p + q + r\n",
        "\n",
        "   if p == q == r:\n",
        "     ssum = ssum * 3\n",
        "   return(ssum)\n",
        "print(sum_num(1,2,3))\n",
        "print(sum_num(5,5,5))"
      ],
      "execution_count": 0,
      "outputs": [
        {
          "output_type": "stream",
          "text": [
            "6\n",
            "45\n"
          ],
          "name": "stdout"
        }
      ]
    },
    {
      "cell_type": "markdown",
      "metadata": {
        "id": "5PxJXcMxMUgh",
        "colab_type": "text"
      },
      "source": [
        "Write a Python program to get a new string from a given string where \"Is\" has been added to the front. If the given string already begins with \"Is\" then return the string unchanged. "
      ]
    },
    {
      "cell_type": "code",
      "metadata": {
        "id": "xyjn0g--MVSF",
        "colab_type": "code",
        "outputId": "9b579ddd-677d-4d68-a7c4-317906745d79",
        "colab": {
          "base_uri": "https://localhost:8080/",
          "height": 50
        }
      },
      "source": [
        "def new_string(str):\n",
        "  if len(str) >= 2 and str[:2] == \"Is\":\n",
        "    return str\n",
        "  return \"Is\" + str\n",
        "\n",
        "print(new_string(\"Array\"))\n",
        "print(new_string(\"IsEmpty\"))"
      ],
      "execution_count": 0,
      "outputs": [
        {
          "output_type": "stream",
          "text": [
            "IsArray\n",
            "IsEmpty\n"
          ],
          "name": "stdout"
        }
      ]
    },
    {
      "cell_type": "markdown",
      "metadata": {
        "id": "VFPI40el5T77",
        "colab_type": "text"
      },
      "source": [
        "Write a Python program to get a string which is n (non-negative integer) copies of a given string"
      ]
    },
    {
      "cell_type": "code",
      "metadata": {
        "id": "dD9olvKCOCnJ",
        "colab_type": "code",
        "outputId": "b4736e33-8733-4cdd-f40a-4f29186268bb",
        "colab": {
          "base_uri": "https://localhost:8080/",
          "height": 50
        }
      },
      "source": [
        "def sstring(str,n) :\n",
        "   cstring=\" \"\n",
        "   for i in range(n):\n",
        "      cstring =cstring +str\n",
        "   return cstring\n",
        "\n",
        "print(sstring(\"Jaymala \", 3))\n",
        "print(sstring(\"Happy \",5))"
      ],
      "execution_count": 0,
      "outputs": [
        {
          "output_type": "stream",
          "text": [
            " Jaymala Jaymala Jaymala \n",
            " Happy Happy Happy Happy Happy \n"
          ],
          "name": "stdout"
        }
      ]
    },
    {
      "cell_type": "markdown",
      "metadata": {
        "id": "zc2eXTl-6syc",
        "colab_type": "text"
      },
      "source": [
        "Write a Python program to find whether a given number (accept from the user) is even or odd, print out an appropriate message to the user."
      ]
    },
    {
      "cell_type": "code",
      "metadata": {
        "id": "GzLi1lus6NM-",
        "colab_type": "code",
        "outputId": "5b0df310-745f-41b8-8202-dfb2d51ae8e4",
        "colab": {
          "base_uri": "https://localhost:8080/",
          "height": 50
        }
      },
      "source": [
        "def even_odd(n) :\n",
        "   if n%2 == 0 :\n",
        "      return(\"Even\")\n",
        "   else :\n",
        "      return(\"Odd\")\n",
        "\n",
        "print(even_odd(2))\n",
        "print(even_odd(15))"
      ],
      "execution_count": 0,
      "outputs": [
        {
          "output_type": "stream",
          "text": [
            "Even\n",
            "Odd\n"
          ],
          "name": "stdout"
        }
      ]
    },
    {
      "cell_type": "markdown",
      "metadata": {
        "id": "LA3N5M4r8jCT",
        "colab_type": "text"
      },
      "source": [
        "Write a Python program to count the number 4 in a given list."
      ]
    },
    {
      "cell_type": "code",
      "metadata": {
        "id": "358_odvc6tif",
        "colab_type": "code",
        "outputId": "62053c4e-10ee-4bab-ba7c-c68feeaff236",
        "colab": {
          "base_uri": "https://localhost:8080/",
          "height": 50
        }
      },
      "source": [
        "def fun_4count(n) :\n",
        "   fcount =0\n",
        "   for i in n :\n",
        "      if i == 4 :\n",
        "        fcount = fcount +1\n",
        "   return(fcount)\n",
        "\n",
        "print(fun_4count([1,23,4,56,3,4]))\n",
        "print(fun_4count([1,23,4,4,4,4]))"
      ],
      "execution_count": 0,
      "outputs": [
        {
          "output_type": "stream",
          "text": [
            "2\n",
            "4\n"
          ],
          "name": "stdout"
        }
      ]
    },
    {
      "cell_type": "markdown",
      "metadata": {
        "id": "8n6qd3aDCaDk",
        "colab_type": "text"
      },
      "source": [
        "Write a Python program to get the n (non-negative integer) copies of the first 2 characters of a given string. Return the n copies of the whole string if the length is less than 2."
      ]
    },
    {
      "cell_type": "code",
      "metadata": {
        "id": "YTV_ia4R8jrY",
        "colab_type": "code",
        "outputId": "712f7acc-f527-4c60-8489-6f9ceab07100",
        "colab": {
          "base_uri": "https://localhost:8080/",
          "height": 84
        }
      },
      "source": [
        "def substr_fun(str,n) :\n",
        "   strfun = \"\"\n",
        "   if len(str) > 2 :\n",
        "      str = str[0:2]\n",
        "   \n",
        "   for i in range(n):\n",
        "     strfun = strfun + str\n",
        "   return(strfun)\n",
        "\n",
        "print(substr_fun('padrg',3))  \n",
        "print(substr_fun('j',4))\n",
        "print(substr_fun('ja',4))\n",
        "print(substr_fun('jay',4))"
      ],
      "execution_count": 0,
      "outputs": [
        {
          "output_type": "stream",
          "text": [
            "papapa\n",
            "jjjj\n",
            "jajajaja\n",
            "jajajaja\n"
          ],
          "name": "stdout"
        }
      ]
    },
    {
      "cell_type": "markdown",
      "metadata": {
        "id": "XLSDmVCufpcU",
        "colab_type": "text"
      },
      "source": [
        "Write a Python program to test whether a passed letter is a vowel or not."
      ]
    },
    {
      "cell_type": "code",
      "metadata": {
        "id": "HBBGgH74dp0D",
        "colab_type": "code",
        "outputId": "a7edb772-28ec-46e3-84f4-8c67ef4665b3",
        "colab": {
          "base_uri": "https://localhost:8080/",
          "height": 50
        }
      },
      "source": [
        "def fun_vowel(c) :\n",
        "    \n",
        "  if (c == 'a' or c =='e' or c=='i' or c=='o' or c=='u') :\n",
        "     return(\"vowel\")\n",
        "  else :\n",
        "     return(\"Not vowel\")\n",
        "\n",
        "print(fun_vowel('j'))\n",
        "print(fun_vowel('a'))"
      ],
      "execution_count": 0,
      "outputs": [
        {
          "output_type": "stream",
          "text": [
            "Not vowel\n",
            "vowel\n"
          ],
          "name": "stdout"
        }
      ]
    },
    {
      "cell_type": "markdown",
      "metadata": {
        "id": "B5G2QpaniEIt",
        "colab_type": "text"
      },
      "source": [
        "Write a Python program to check whether a specified value is contained in a group of values."
      ]
    },
    {
      "cell_type": "code",
      "metadata": {
        "id": "LD7HOjADfqQk",
        "colab_type": "code",
        "outputId": "c18f64ba-3f08-4233-d4f6-19068745b049",
        "colab": {
          "base_uri": "https://localhost:8080/",
          "height": 50
        }
      },
      "source": [
        "def search_groupitem(n, grp_data) :\n",
        "  for num in grp_data :\n",
        "    if num == n :\n",
        "       return True\n",
        "  return False\n",
        "\n",
        "print(search_groupitem(44,[1,2,4,53,6,45]))\n",
        "print(search_groupitem(1,[1,1,4,53,6,45]))"
      ],
      "execution_count": 0,
      "outputs": [
        {
          "output_type": "stream",
          "text": [
            "False\n",
            "True\n"
          ],
          "name": "stdout"
        }
      ]
    },
    {
      "cell_type": "markdown",
      "metadata": {
        "id": "3zlAnypIJz4a",
        "colab_type": "text"
      },
      "source": [
        "Write a Python program to create a histogram from a given list of integers. "
      ]
    },
    {
      "cell_type": "code",
      "metadata": {
        "id": "KxraMLPeJ0i7",
        "colab_type": "code",
        "outputId": "518de0f0-06a3-44ca-e237-2737a6921c0a",
        "colab": {
          "base_uri": "https://localhost:8080/",
          "height": 134
        }
      },
      "source": [
        "def draw_his(num) :\n",
        " \n",
        "  for n in num :\n",
        "    drawhist= ' '\n",
        "    k = n\n",
        "    while (k != 0) :\n",
        "      drawhist += '*'\n",
        "      k = k -1\n",
        "    print(drawhist)\n",
        "print(draw_his([2,4,6,9,5,3]))"
      ],
      "execution_count": 0,
      "outputs": [
        {
          "output_type": "stream",
          "text": [
            " **\n",
            " ****\n",
            " ******\n",
            " *********\n",
            " *****\n",
            " ***\n",
            "None\n"
          ],
          "name": "stdout"
        }
      ]
    },
    {
      "cell_type": "markdown",
      "metadata": {
        "id": "ye9SXwzALhQf",
        "colab_type": "text"
      },
      "source": [
        "Write a Python program to concatenate all elements in a list into a string and return it."
      ]
    },
    {
      "cell_type": "code",
      "metadata": {
        "id": "S7teDlKhMmEd",
        "colab_type": "code",
        "outputId": "37f93638-5f30-4eae-9c35-f2e3b6e475dd",
        "colab": {
          "base_uri": "https://localhost:8080/",
          "height": 51
        }
      },
      "source": [
        "def fun_con(str) :\n",
        "  rstr = ' '\n",
        "  for i in str :\n",
        "       rstr = rstr +i\n",
        "  return rstr\n",
        "\n",
        "print(fun_con(['1','2','4','5']))\n",
        "print(fun_con(['j','a','y','m','a','l','a']))"
      ],
      "execution_count": 0,
      "outputs": [
        {
          "output_type": "stream",
          "text": [
            " 1245\n",
            " jaymala\n"
          ],
          "name": "stdout"
        }
      ]
    },
    {
      "cell_type": "markdown",
      "metadata": {
        "id": "9hwQXy8NMymd",
        "colab_type": "text"
      },
      "source": [
        "Write a Python program to print all even numbers from a given numbers list in the same order and stop the printing if any numbers that come after 237 in the sequence. Go to the editor\n",
        "Sample numbers list : \n",
        "numbers = [    \n",
        "    386, 462, 47, 418, 907, 344, 236, 375, 823, 566, 597, 978, 328, 615, 953, 345, \n",
        "    399, 162, 758, 219, 918, 237, 412, 566, 826, 248, 866, 950, 626, 949, 687, 217, \n",
        "    815, 67, 104, 58, 512, 24, 892, 894, 767, 553, 81, 379, 843, 831, 445, 742, 717, \n",
        "    958,743, 527\n",
        "    ]"
      ]
    },
    {
      "cell_type": "code",
      "metadata": {
        "id": "WeO5XiWNMffg",
        "colab_type": "code",
        "outputId": "52fd488c-4bc0-4324-de93-3707993c65bb",
        "colab": {
          "base_uri": "https://localhost:8080/",
          "height": 221
        }
      },
      "source": [
        "nlist = [    \n",
        "    386, 462, 47, 418, 907, 344, 236, 375, 823, 566, 597, 978, 328, 615, 953, 345, \n",
        "    399, 162, 758, 219, 918, 237, 412, 566, 826, 248, 866, 950, 626, 949, 687, 217, \n",
        "    815, 67, 104, 58, 512, 24, 892, 894, 767, 553, 81, 379, 843, 831, 445, 742, 717, \n",
        "    958,743, 527\n",
        "    ]\n",
        "for i in nlist :\n",
        "   if i == 237 :\n",
        "     print(i)\n",
        "     break;\n",
        "   elif i % 2 == 0 :\n",
        "     print(i)\n",
        "      "
      ],
      "execution_count": 0,
      "outputs": [
        {
          "output_type": "stream",
          "text": [
            "386\n",
            "462\n",
            "418\n",
            "344\n",
            "236\n",
            "566\n",
            "978\n",
            "328\n",
            "162\n",
            "758\n",
            "918\n",
            "237\n"
          ],
          "name": "stdout"
        }
      ]
    },
    {
      "cell_type": "markdown",
      "metadata": {
        "id": "_drGki54RCYk",
        "colab_type": "text"
      },
      "source": [
        "Write a Python program to print out a set containing all the colors from color_list_1 which are not present in color_list_2. \n",
        "Test Data :\n",
        "color_list_1 = set([\"White\", \"Black\", \"Red\"])\n",
        "color_list_2 = set([\"Red\", \"Green\"])"
      ]
    },
    {
      "cell_type": "code",
      "metadata": {
        "id": "8N6JoOiLPf2a",
        "colab_type": "code",
        "outputId": "5c4ae26e-89d8-429d-e589-7f5c37d68874",
        "colab": {
          "base_uri": "https://localhost:8080/",
          "height": 34
        }
      },
      "source": [
        "color_list_1 = set([\"White\", \"Black\", \"Red\"])\n",
        "color_list_2 = set([\"Red\", \"Green\"])\n",
        "print(color_list_1.difference(color_list_2))"
      ],
      "execution_count": 0,
      "outputs": [
        {
          "output_type": "stream",
          "text": [
            "{'Black', 'White'}\n"
          ],
          "name": "stdout"
        }
      ]
    },
    {
      "cell_type": "markdown",
      "metadata": {
        "id": "N9cX6z-UXV2C",
        "colab_type": "text"
      },
      "source": [
        "Write a Python program that will accept the base and height of a triangle and compute the area."
      ]
    },
    {
      "cell_type": "code",
      "metadata": {
        "id": "mM5qPlboXNlt",
        "colab_type": "code",
        "outputId": "3dc4af51-5add-44dd-fe03-8c91792b74a7",
        "colab": {
          "base_uri": "https://localhost:8080/",
          "height": 68
        }
      },
      "source": [
        "b= input(\"Enter Base :\")\n",
        "h = input(\"Enter Height :\")\n",
        "\n",
        "area = 1/2*int(b)*int(h)\n",
        "print(\"Area of Triangle :\", area)"
      ],
      "execution_count": 0,
      "outputs": [
        {
          "output_type": "stream",
          "text": [
            "Enter Base :40\n",
            "Enter Height :10\n",
            "Area of Triangle : 200.0\n"
          ],
          "name": "stdout"
        }
      ]
    },
    {
      "cell_type": "markdown",
      "metadata": {
        "id": "KmLbPHLVYbDm",
        "colab_type": "text"
      },
      "source": [
        "31. Write a Python program to compute the greatest common divisor (GCD) of two positive integers"
      ]
    },
    {
      "cell_type": "code",
      "metadata": {
        "id": "5LEkKj5gXwr7",
        "colab_type": "code",
        "outputId": "41cec24c-0961-4b62-be0c-7f3a3a8ace76",
        "colab": {
          "base_uri": "https://localhost:8080/",
          "height": 51
        }
      },
      "source": [
        "def gcd(x, y):\n",
        "    gcd = 1\n",
        "    \n",
        "    if x % y == 0:\n",
        "        return y\n",
        "    \n",
        "    for k in range(int(y / 2), 0, -1):\n",
        "        if x % k == 0 and y % k == 0:\n",
        "            gcd = k\n",
        "            break  \n",
        "    return gcd\n",
        "\n",
        "print(gcd(12, 24))\n",
        "print(gcd(4, 6))"
      ],
      "execution_count": 0,
      "outputs": [
        {
          "output_type": "stream",
          "text": [
            "12\n",
            "2\n"
          ],
          "name": "stdout"
        }
      ]
    },
    {
      "cell_type": "code",
      "metadata": {
        "id": "NlAfDFjYeH3S",
        "colab_type": "code",
        "outputId": "a120f375-5e7e-4a72-b605-ddcdc5f4fdac",
        "colab": {
          "base_uri": "https://localhost:8080/",
          "height": 51
        }
      },
      "source": [
        "def gcd_fun(x,y) :\n",
        "   if x > y :\n",
        "       small = y \n",
        "   elif x < y :\n",
        "      small = x\n",
        "\n",
        "   for i in range(1,small +1) :\n",
        "     if((x % i == 0) and (y % i == 0)):\n",
        "            gcd = i \n",
        "   return gcd\n",
        "\n",
        "print(gcd(12, 24))\n",
        "print(gcd(4, 6))"
      ],
      "execution_count": 0,
      "outputs": [
        {
          "output_type": "stream",
          "text": [
            "12\n",
            "2\n"
          ],
          "name": "stdout"
        }
      ]
    },
    {
      "cell_type": "markdown",
      "metadata": {
        "id": "CgHa__tUrzRK",
        "colab_type": "text"
      },
      "source": [
        "32. Write a Python program to get the least common multiple (LCM) of two positive integers"
      ]
    },
    {
      "cell_type": "code",
      "metadata": {
        "id": "RiR1Hio3gldv",
        "colab_type": "code",
        "outputId": "99f9f852-f4cb-40cd-fbbf-f5704a1643bd",
        "colab": {
          "base_uri": "https://localhost:8080/",
          "height": 34
        }
      },
      "source": [
        "def lcm_fun(n1,n2) :\n",
        "  if n1 > n2 :\n",
        "     n3 = n1\n",
        "  else :\n",
        "     n3 = n2\n",
        "  \n",
        "  while(True):\n",
        "     if((n3 % n1 == 0) and (n3 % n2 == 0)):\n",
        "        lcm = n3\n",
        "        break\n",
        "     n3 = n3 +1\n",
        "\n",
        "  return lcm\n",
        "\n",
        "print(lcm_fun(14,16))"
      ],
      "execution_count": 0,
      "outputs": [
        {
          "output_type": "stream",
          "text": [
            "112\n"
          ],
          "name": "stdout"
        }
      ]
    },
    {
      "cell_type": "markdown",
      "metadata": {
        "id": "yc6VhPl-uAS2",
        "colab_type": "text"
      },
      "source": [
        "33.  Write a Python program to sum of three given integers. However, if two values are equal sum will be zero"
      ]
    },
    {
      "cell_type": "code",
      "metadata": {
        "id": "Rx4E5xEys9Bt",
        "colab_type": "code",
        "outputId": "b00cc3e1-177b-4dc3-cd52-e392cadd885f",
        "colab": {
          "base_uri": "https://localhost:8080/",
          "height": 51
        }
      },
      "source": [
        "def int_func(n1,n2,n3) :\n",
        "   if (n1 == n2) or (n2 == n3) or (n3 == n1) :\n",
        "        nsum = 0\n",
        "   else :\n",
        "      nsum = n1 + n2 +n3\n",
        "\n",
        "   return (nsum)\n",
        "\n",
        "print(int_func(2,3,5))\n",
        "print(int_func(11,11,30))\n"
      ],
      "execution_count": 0,
      "outputs": [
        {
          "output_type": "stream",
          "text": [
            "10\n",
            "0\n"
          ],
          "name": "stdout"
        }
      ]
    },
    {
      "cell_type": "markdown",
      "metadata": {
        "id": "RShiFsO3v8ik",
        "colab_type": "text"
      },
      "source": [
        "34. Write a Python program to sum of two given integers. However, if the sum is between 15 to 20 it will return 20"
      ]
    },
    {
      "cell_type": "code",
      "metadata": {
        "id": "rytyQ4fqvJ8h",
        "colab_type": "code",
        "outputId": "da602a71-74b3-4c96-ecf4-f17f05dbc929",
        "colab": {
          "base_uri": "https://localhost:8080/",
          "height": 51
        }
      },
      "source": [
        "def sum_int(n1,n2) :\n",
        "  nsum = n1 +n2\n",
        "  #if  nsum >= 15 and nsum <=20 :\n",
        "  if nsum in range(15,20) :\n",
        "       return (20)\n",
        "  else :\n",
        "       return(nsum)\n",
        "\n",
        "print(sum_int(6,10))\n",
        "print(sum_int(1,5))"
      ],
      "execution_count": 0,
      "outputs": [
        {
          "output_type": "stream",
          "text": [
            "20\n",
            "6\n"
          ],
          "name": "stdout"
        }
      ]
    },
    {
      "cell_type": "markdown",
      "metadata": {
        "id": "1BQwLNy9x-9H",
        "colab_type": "text"
      },
      "source": [
        "35. Write a Python program that will return true if the two given integer values are equal or their sum or difference is 5"
      ]
    },
    {
      "cell_type": "code",
      "metadata": {
        "id": "NkgYgN4_xVhQ",
        "colab_type": "code",
        "outputId": "28ba64da-afd9-4064-b311-ec9460a42116",
        "colab": {
          "base_uri": "https://localhost:8080/",
          "height": 68
        }
      },
      "source": [
        "def num_check(n1,n2) :\n",
        "   if (n1 == n2) or (((n1+n2) or abs(n1 -n2) ) == 5):\n",
        "     return True\n",
        "   else :\n",
        "     return False\n",
        "\n",
        "print(num_check(3,2)) \n",
        "print(num_check(3,3)) \n",
        "print(num_check(10,5)) "
      ],
      "execution_count": 0,
      "outputs": [
        {
          "output_type": "stream",
          "text": [
            "True\n",
            "True\n",
            "False\n"
          ],
          "name": "stdout"
        }
      ]
    },
    {
      "cell_type": "markdown",
      "metadata": {
        "id": "K7keyX6L1pRq",
        "colab_type": "text"
      },
      "source": [
        "36. Write a Python program to add two objects if both objects are an integer type."
      ]
    },
    {
      "cell_type": "code",
      "metadata": {
        "id": "bxrfkyxg7vtP",
        "colab_type": "code",
        "outputId": "1b579ea9-cca8-4bce-ba4a-ab3ce9ac1b0a",
        "colab": {
          "base_uri": "https://localhost:8080/",
          "height": 34
        }
      },
      "source": [
        "type(5)"
      ],
      "execution_count": 0,
      "outputs": [
        {
          "output_type": "execute_result",
          "data": {
            "text/plain": [
              "int"
            ]
          },
          "metadata": {
            "tags": []
          },
          "execution_count": 36
        }
      ]
    },
    {
      "cell_type": "code",
      "metadata": {
        "id": "K3yYBME40p_Y",
        "colab_type": "code",
        "outputId": "40538bff-2cc5-4b46-d294-53312b6a7dc4",
        "colab": {
          "base_uri": "https://localhost:8080/",
          "height": 350
        }
      },
      "source": [
        "def funadd(n1,n2):\n",
        "  if (type(n1) == int and type(n2) == int) :\n",
        "     return(n1+n2)\n",
        "  else :\n",
        "     raise TypeError(\"Inputs must be integers\")\n",
        " \n",
        "   \n",
        "print(funadd(5,4))\n",
        "print(funadd(3,'a'))\n",
        "\n"
      ],
      "execution_count": 0,
      "outputs": [
        {
          "output_type": "stream",
          "text": [
            "9\n"
          ],
          "name": "stdout"
        },
        {
          "output_type": "error",
          "ename": "TypeError",
          "evalue": "ignored",
          "traceback": [
            "\u001b[0;31m---------------------------------------------------------------------------\u001b[0m",
            "\u001b[0;31mTypeError\u001b[0m                                 Traceback (most recent call last)",
            "\u001b[0;32m<ipython-input-38-3a090cb4749c>\u001b[0m in \u001b[0;36m<module>\u001b[0;34m()\u001b[0m\n\u001b[1;32m      7\u001b[0m \u001b[0;34m\u001b[0m\u001b[0m\n\u001b[1;32m      8\u001b[0m \u001b[0mprint\u001b[0m\u001b[0;34m(\u001b[0m\u001b[0mfunadd\u001b[0m\u001b[0;34m(\u001b[0m\u001b[0;36m5\u001b[0m\u001b[0;34m,\u001b[0m\u001b[0;36m4\u001b[0m\u001b[0;34m)\u001b[0m\u001b[0;34m)\u001b[0m\u001b[0;34m\u001b[0m\u001b[0;34m\u001b[0m\u001b[0m\n\u001b[0;32m----> 9\u001b[0;31m \u001b[0mprint\u001b[0m\u001b[0;34m(\u001b[0m\u001b[0mfunadd\u001b[0m\u001b[0;34m(\u001b[0m\u001b[0;36m3\u001b[0m\u001b[0;34m,\u001b[0m\u001b[0;34m'a'\u001b[0m\u001b[0;34m)\u001b[0m\u001b[0;34m)\u001b[0m\u001b[0;34m\u001b[0m\u001b[0;34m\u001b[0m\u001b[0m\n\u001b[0m\u001b[1;32m     10\u001b[0m \u001b[0;34m\u001b[0m\u001b[0m\n",
            "\u001b[0;32m<ipython-input-38-3a090cb4749c>\u001b[0m in \u001b[0;36mfunadd\u001b[0;34m(n1, n2)\u001b[0m\n\u001b[1;32m      3\u001b[0m      \u001b[0;32mreturn\u001b[0m\u001b[0;34m(\u001b[0m\u001b[0mn1\u001b[0m\u001b[0;34m+\u001b[0m\u001b[0mn2\u001b[0m\u001b[0;34m)\u001b[0m\u001b[0;34m\u001b[0m\u001b[0;34m\u001b[0m\u001b[0m\n\u001b[1;32m      4\u001b[0m   \u001b[0;32melse\u001b[0m \u001b[0;34m:\u001b[0m\u001b[0;34m\u001b[0m\u001b[0;34m\u001b[0m\u001b[0m\n\u001b[0;32m----> 5\u001b[0;31m      \u001b[0;32mraise\u001b[0m \u001b[0mTypeError\u001b[0m\u001b[0;34m(\u001b[0m\u001b[0;34m\"Inputs must be integers\"\u001b[0m\u001b[0;34m)\u001b[0m\u001b[0;34m\u001b[0m\u001b[0;34m\u001b[0m\u001b[0m\n\u001b[0m\u001b[1;32m      6\u001b[0m \u001b[0;34m\u001b[0m\u001b[0m\n\u001b[1;32m      7\u001b[0m \u001b[0;34m\u001b[0m\u001b[0m\n",
            "\u001b[0;31mTypeError\u001b[0m: Inputs must be integers"
          ]
        }
      ]
    },
    {
      "cell_type": "markdown",
      "metadata": {
        "id": "n__G8CT98LWZ",
        "colab_type": "text"
      },
      "source": [
        "37. Write a Python program to display your details like name, age, address in three different lines."
      ]
    },
    {
      "cell_type": "code",
      "metadata": {
        "id": "zZIx6I9M3hYn",
        "colab_type": "code",
        "outputId": "3dc95994-2fff-41b1-c1c0-986132f36d82",
        "colab": {
          "base_uri": "https://localhost:8080/",
          "height": 187
        }
      },
      "source": [
        "def personal_prof(name1,age,address) :\n",
        "    print(\"\\n\\n Entered Name: {}\\nAge: {}\\nAddress: {}\".format(name1, age, address))\n",
        "\n",
        "print(\"Pleas Enter Following Details  :\")\n",
        "name = input(\"name\")\n",
        "age = input(\"age\")\n",
        "address = input(\"address\")\n",
        "print(personal_prof(name,age,address))"
      ],
      "execution_count": 0,
      "outputs": [
        {
          "output_type": "stream",
          "text": [
            "Pleas Enter Following Details  :\n",
            "namejaymala\n",
            "age45\n",
            "addressgirgaum\n",
            "\n",
            "\n",
            " Entered Name: jaymala\n",
            "Age: 45\n",
            "Address: girgaum\n",
            "None\n"
          ],
          "name": "stdout"
        }
      ]
    },
    {
      "cell_type": "markdown",
      "metadata": {
        "id": "zLD8Ell4JDNg",
        "colab_type": "text"
      },
      "source": [
        "38. Write a Python program to solve (x + y) * (x + y)."
      ]
    },
    {
      "cell_type": "code",
      "metadata": {
        "id": "JH8bXTyrHYXE",
        "colab_type": "code",
        "outputId": "09364a3f-8069-4ff2-a3ec-6293bca31c3b",
        "colab": {
          "base_uri": "https://localhost:8080/",
          "height": 34
        }
      },
      "source": [
        "x, y = 4, 3\n",
        "result = x * x + 2 * x * y + y * y\n",
        "print(\"({} + {}) ^ 2) = {}\".format(x, y, result))"
      ],
      "execution_count": 0,
      "outputs": [
        {
          "output_type": "stream",
          "text": [
            "(4 + 3) ^ 2) = 49\n"
          ],
          "name": "stdout"
        }
      ]
    },
    {
      "cell_type": "markdown",
      "metadata": {
        "id": "fQDShdAmJeNR",
        "colab_type": "text"
      },
      "source": [
        "39. Write a Python program to compute the future value of a specified principal amount, rate of interest, and a number of years."
      ]
    },
    {
      "cell_type": "code",
      "metadata": {
        "id": "HNxD32OYJb2I",
        "colab_type": "code",
        "outputId": "444acac5-c43a-4e12-bd3f-edb3aaeaf621",
        "colab": {
          "base_uri": "https://localhost:8080/",
          "height": 102
        }
      },
      "source": [
        "print(\"Enter Following Details :\")\n",
        "a = int(input(\"amount\"))\n",
        "i = int(input(\"interest\"))\n",
        "y = int(input(\"year\"))\n",
        "\n",
        "print(\"Return Value\", round((a*((1+(0.01*i)) ** y)),2))\n"
      ],
      "execution_count": 0,
      "outputs": [
        {
          "output_type": "stream",
          "text": [
            "Enter Following Details :\n",
            "amount100000\n",
            "interest5\n",
            "year5\n",
            "Return Value 127628.16\n"
          ],
          "name": "stdout"
        }
      ]
    },
    {
      "cell_type": "markdown",
      "metadata": {
        "id": "bYav5OFdM963",
        "colab_type": "text"
      },
      "source": [
        "40. Write a Python program to compute the distance between the points (x1, y1) and (x2, y2)"
      ]
    },
    {
      "cell_type": "code",
      "metadata": {
        "id": "rjwSXqyRLVmn",
        "colab_type": "code",
        "outputId": "5f679f0e-32f6-41fa-bfe0-629fe364c9d7",
        "colab": {
          "base_uri": "https://localhost:8080/",
          "height": 34
        }
      },
      "source": [
        "import math\n",
        "p1 = [4, 0]\n",
        "p2 = [6, 6]\n",
        "distance = round(math.sqrt( ((p1[0]-p2[0])**2)+((p1[1]-p2[1])**2) ),2)\n",
        "\n",
        "print(\"Distance between two given Co-ordinates : \" , distance)"
      ],
      "execution_count": 0,
      "outputs": [
        {
          "output_type": "stream",
          "text": [
            "Distance between two given Co-ordinates :  6.32\n"
          ],
          "name": "stdout"
        }
      ]
    },
    {
      "cell_type": "markdown",
      "metadata": {
        "id": "9g86GHLqPi36",
        "colab_type": "text"
      },
      "source": [
        "41. Write a Python program to check whether a file exists."
      ]
    },
    {
      "cell_type": "code",
      "metadata": {
        "id": "Hni7YfNSNNqJ",
        "colab_type": "code",
        "outputId": "1ac3a6cf-25b3-494d-e66c-ce38dd4627e6",
        "colab": {
          "base_uri": "https://localhost:8080/",
          "height": 34
        }
      },
      "source": [
        "import os.path\n",
        "open('abc.txt', 'w')\n",
        "print(os.path.isfile('abc.txt'))"
      ],
      "execution_count": 0,
      "outputs": [
        {
          "output_type": "stream",
          "text": [
            "True\n"
          ],
          "name": "stdout"
        }
      ]
    },
    {
      "cell_type": "markdown",
      "metadata": {
        "id": "BB8lym5JQW7H",
        "colab_type": "text"
      },
      "source": [
        "42. Write a Python program to determine if a Python shell is executing in 32bit or 64bit mode on OS."
      ]
    },
    {
      "cell_type": "code",
      "metadata": {
        "id": "VgIBf__QQKHN",
        "colab_type": "code",
        "outputId": "32313b79-7efb-4511-c5e6-30bf871a15de",
        "colab": {
          "base_uri": "https://localhost:8080/",
          "height": 34
        }
      },
      "source": [
        "import struct\n",
        "print(struct.calcsize(\"P\") * 8)"
      ],
      "execution_count": 0,
      "outputs": [
        {
          "output_type": "stream",
          "text": [
            "64\n"
          ],
          "name": "stdout"
        }
      ]
    },
    {
      "cell_type": "markdown",
      "metadata": {
        "id": "aveDBTA_REM5",
        "colab_type": "text"
      },
      "source": [
        "43. Write a Python program to get OS name, platform and release information."
      ]
    },
    {
      "cell_type": "code",
      "metadata": {
        "id": "M8SMLqZvQeiu",
        "colab_type": "code",
        "outputId": "3a1c2523-2c39-4447-db14-e62989083a8b",
        "colab": {
          "base_uri": "https://localhost:8080/",
          "height": 67
        }
      },
      "source": [
        "import platform\n",
        "import os\n",
        "print(os.name)\n",
        "print(platform.system())\n",
        "print(platform.release())"
      ],
      "execution_count": 0,
      "outputs": [
        {
          "output_type": "stream",
          "text": [
            "posix\n",
            "Linux\n",
            "4.14.137+\n"
          ],
          "name": "stdout"
        }
      ]
    },
    {
      "cell_type": "markdown",
      "metadata": {
        "id": "JJtKfKvVRT3w",
        "colab_type": "text"
      },
      "source": [
        "44. Write a Python program to locate Python site-packages."
      ]
    },
    {
      "cell_type": "code",
      "metadata": {
        "id": "P3VxTa4HRJ-R",
        "colab_type": "code",
        "outputId": "b60aeda2-9f0e-4946-d781-5f3ce4abfac2",
        "colab": {
          "base_uri": "https://localhost:8080/",
          "height": 34
        }
      },
      "source": [
        "import site; \n",
        "print(site.getsitepackages())"
      ],
      "execution_count": 0,
      "outputs": [
        {
          "output_type": "stream",
          "text": [
            "['/usr/local/lib/python3.6/dist-packages', '/usr/lib/python3/dist-packages', '/usr/lib/python3.6/dist-packages']\n"
          ],
          "name": "stdout"
        }
      ]
    },
    {
      "cell_type": "markdown",
      "metadata": {
        "id": "6O-6WYsPRjM9",
        "colab_type": "text"
      },
      "source": [
        "45. Write a python program to call an external command in Python."
      ]
    },
    {
      "cell_type": "code",
      "metadata": {
        "id": "l5TUMc3-RbFr",
        "colab_type": "code",
        "outputId": "da3d6073-62c4-48e8-e746-c3a946f98711",
        "colab": {
          "base_uri": "https://localhost:8080/",
          "height": 34
        }
      },
      "source": [
        "from subprocess import call\n",
        "call([\"ls\", \"-l\"])"
      ],
      "execution_count": 0,
      "outputs": [
        {
          "output_type": "execute_result",
          "data": {
            "text/plain": [
              "0"
            ]
          },
          "metadata": {
            "tags": []
          },
          "execution_count": 5
        }
      ]
    },
    {
      "cell_type": "markdown",
      "metadata": {
        "id": "1CZmxkAORvoR",
        "colab_type": "text"
      },
      "source": [
        "46. Write a python program to get the path and name of the file that is currently executing."
      ]
    },
    {
      "cell_type": "code",
      "metadata": {
        "id": "2rAxbPRVRp9i",
        "colab_type": "code",
        "outputId": "a95f8d9f-9cce-45e8-a1ec-bb60fa5a1ac1",
        "colab": {
          "base_uri": "https://localhost:8080/",
          "height": 34
        }
      },
      "source": [
        "import os\n",
        "print(\"Current File Name : \",os.path.dirname(os.path.realpath(\"__file__\")))"
      ],
      "execution_count": 0,
      "outputs": [
        {
          "output_type": "stream",
          "text": [
            "Current File Name :  /content\n"
          ],
          "name": "stdout"
        }
      ]
    },
    {
      "cell_type": "markdown",
      "metadata": {
        "id": "cwtFkTgfWb1j",
        "colab_type": "text"
      },
      "source": [
        "47. Write a Python program to find out the number of CPUs using."
      ]
    },
    {
      "cell_type": "code",
      "metadata": {
        "id": "ff77rbXqV98X",
        "colab_type": "code",
        "outputId": "3cec3032-d97d-4800-f3bc-a04a590eafcd",
        "colab": {
          "base_uri": "https://localhost:8080/",
          "height": 34
        }
      },
      "source": [
        "import multiprocessing\n",
        "print(multiprocessing.cpu_count())"
      ],
      "execution_count": 0,
      "outputs": [
        {
          "output_type": "stream",
          "text": [
            "2\n"
          ],
          "name": "stdout"
        }
      ]
    },
    {
      "cell_type": "markdown",
      "metadata": {
        "id": "HgYQaOkfWpA-",
        "colab_type": "text"
      },
      "source": [
        "48. Write a Python program to parse a string to Float or Integer. "
      ]
    },
    {
      "cell_type": "code",
      "metadata": {
        "id": "gYiB4wcWWhj6",
        "colab_type": "code",
        "outputId": "5a0895c7-9c59-4d64-93cb-694302e3e06c",
        "colab": {
          "base_uri": "https://localhost:8080/",
          "height": 50
        }
      },
      "source": [
        "n = \"246.2458\"\n",
        "print(float(n))\n",
        "print(int(float(n)))"
      ],
      "execution_count": 0,
      "outputs": [
        {
          "output_type": "stream",
          "text": [
            "246.2458\n",
            "246\n"
          ],
          "name": "stdout"
        }
      ]
    },
    {
      "cell_type": "markdown",
      "metadata": {
        "id": "QdY3lv2BXsDJ",
        "colab_type": "text"
      },
      "source": [
        "49. Write a Python program to list all files in a directory in Python. "
      ]
    },
    {
      "cell_type": "code",
      "metadata": {
        "id": "wMOkxI-KXlKN",
        "colab_type": "code",
        "outputId": "4ca87f08-7f9b-4a4a-9b54-1f66550bff40",
        "colab": {
          "base_uri": "https://localhost:8080/",
          "height": 34
        }
      },
      "source": [
        "from os import listdir\n",
        "from os.path import isfile, join\n",
        "files_list = [f for f in listdir('/home') if isfile(join('/home', f))]\n",
        "print(files_list);"
      ],
      "execution_count": 0,
      "outputs": [
        {
          "output_type": "stream",
          "text": [
            "[]\n"
          ],
          "name": "stdout"
        }
      ]
    },
    {
      "cell_type": "markdown",
      "metadata": {
        "id": "b6u7fegVf9ux",
        "colab_type": "text"
      },
      "source": [
        "50. Write a Python program to print without newline or space."
      ]
    },
    {
      "cell_type": "code",
      "metadata": {
        "id": "cLxes8bJfo0c",
        "colab_type": "code",
        "outputId": "073f81f5-aa7f-4b16-9525-30d3cb6fe762",
        "colab": {
          "base_uri": "https://localhost:8080/",
          "height": 50
        }
      },
      "source": [
        "for i in range(0, 10):\n",
        "    print('*', end=\"\")\n",
        "print(\"\\n\")"
      ],
      "execution_count": 0,
      "outputs": [
        {
          "output_type": "stream",
          "text": [
            "**********\n",
            "\n"
          ],
          "name": "stdout"
        }
      ]
    },
    {
      "cell_type": "markdown",
      "metadata": {
        "id": "-Oz23btGgLjY",
        "colab_type": "text"
      },
      "source": [
        "51. Write a Python program to determine profiling of Python programs."
      ]
    },
    {
      "cell_type": "code",
      "metadata": {
        "id": "apNwBiySgFdq",
        "colab_type": "code",
        "outputId": "3924a6c5-253b-4f84-8d0e-ccd28305932b",
        "colab": {
          "base_uri": "https://localhost:8080/",
          "height": 454
        }
      },
      "source": [
        "import cProfile\n",
        "def sum():\n",
        "    print(1+2)\n",
        "cProfile.run('sum()')"
      ],
      "execution_count": 0,
      "outputs": [
        {
          "output_type": "stream",
          "text": [
            "3\n",
            "         39 function calls in 0.001 seconds\n",
            "\n",
            "   Ordered by: standard name\n",
            "\n",
            "   ncalls  tottime  percall  cumtime  percall filename:lineno(function)\n",
            "        1    0.000    0.000    0.001    0.001 <ipython-input-35-db52c97772c7>:2(sum)\n",
            "        1    0.000    0.000    0.001    0.001 <string>:1(<module>)\n",
            "        3    0.000    0.000    0.001    0.000 iostream.py:180(schedule)\n",
            "        2    0.000    0.000    0.000    0.000 iostream.py:284(_is_master_process)\n",
            "        2    0.000    0.000    0.001    0.000 iostream.py:297(_schedule_flush)\n",
            "        2    0.000    0.000    0.001    0.001 iostream.py:342(write)\n",
            "        3    0.000    0.000    0.000    0.000 iostream.py:87(_event_pipe)\n",
            "        3    0.000    0.000    0.000    0.000 socket.py:333(send)\n",
            "        3    0.000    0.000    0.000    0.000 threading.py:1062(_wait_for_tstate_lock)\n",
            "        3    0.000    0.000    0.000    0.000 threading.py:1104(is_alive)\n",
            "        3    0.000    0.000    0.000    0.000 threading.py:506(is_set)\n",
            "        1    0.000    0.000    0.001    0.001 {built-in method builtins.exec}\n",
            "        2    0.000    0.000    0.000    0.000 {built-in method builtins.isinstance}\n",
            "        1    0.000    0.000    0.001    0.001 {built-in method builtins.print}\n",
            "        2    0.000    0.000    0.000    0.000 {built-in method posix.getpid}\n",
            "        3    0.001    0.000    0.001    0.000 {built-in method posix.urandom}\n",
            "        3    0.000    0.000    0.000    0.000 {method 'acquire' of '_thread.lock' objects}\n",
            "        1    0.000    0.000    0.000    0.000 {method 'disable' of '_lsprof.Profiler' objects}\n",
            "\n",
            "\n"
          ],
          "name": "stdout"
        }
      ]
    },
    {
      "cell_type": "markdown",
      "metadata": {
        "id": "HEuqO8IQgkLR",
        "colab_type": "text"
      },
      "source": [
        "52. Write a Python program to print to stderr."
      ]
    },
    {
      "cell_type": "code",
      "metadata": {
        "id": "zTt3dtsQgQ3X",
        "colab_type": "code",
        "outputId": "a432277c-e282-4e9b-8ea3-cf5e7ae92b64",
        "colab": {
          "base_uri": "https://localhost:8080/",
          "height": 34
        }
      },
      "source": [
        "from __future__ import print_function\n",
        "import sys\n",
        "\n",
        "def eprint(*args, **kwargs):\n",
        "    print(*args, file=sys.stderr, **kwargs)\n",
        "\n",
        "eprint(\"abc\", \"efg\", \"xyz\", sep=\"--\")"
      ],
      "execution_count": 0,
      "outputs": [
        {
          "output_type": "stream",
          "text": [
            "abc--efg--xyz\n"
          ],
          "name": "stderr"
        }
      ]
    },
    {
      "cell_type": "markdown",
      "metadata": {
        "id": "vDNwtJ4UhC9V",
        "colab_type": "text"
      },
      "source": [
        "53. Write a python program to access environment variables"
      ]
    },
    {
      "cell_type": "code",
      "metadata": {
        "id": "AQ-VQTwdg7Dg",
        "colab_type": "code",
        "outputId": "027f4afd-25a6-42c8-a645-670f8da8d296",
        "colab": {
          "base_uri": "https://localhost:8080/",
          "height": 154
        }
      },
      "source": [
        "import os\n",
        "# Access all environment variables \n",
        "print('*----------------------------------*')\n",
        "print(os.environ)\n",
        "print('*----------------------------------*')\n",
        "# Access a particular environment variable \n",
        "print(os.environ['HOME'])\n",
        "print('*----------------------------------*')\n",
        "print(os.environ['PATH'])\n",
        "print('*----------------------------------*')"
      ],
      "execution_count": 0,
      "outputs": [
        {
          "output_type": "stream",
          "text": [
            "*----------------------------------*\n",
            "environ({'ENV': '/root/.bashrc', 'GCS_READ_CACHE_BLOCK_SIZE_MB': '16', 'CLOUDSDK_CONFIG': '/content/.config', 'CUDA_VERSION': '10.1.243', 'PATH': '/usr/local/nvidia/bin:/usr/local/cuda/bin:/usr/local/sbin:/usr/local/bin:/usr/sbin:/usr/bin:/sbin:/bin:/tools/node/bin:/tools/google-cloud-sdk/bin:/opt/bin', 'HOME': '/root', 'LD_LIBRARY_PATH': '/usr/local/nvidia/lib:/usr/local/nvidia/lib64', 'LANG': 'en_US.UTF-8', 'SHELL': '/bin/bash', 'LIBRARY_PATH': '/usr/local/cuda/lib64/stubs', 'CUDA_PKG_VERSION': '10-1=10.1.243-1', 'SHLVL': '1', 'NCCL_VERSION': '2.4.8', 'NVIDIA_VISIBLE_DEVICES': 'all', 'TF_FORCE_GPU_ALLOW_GROWTH': 'true', 'DEBIAN_FRONTEND': 'noninteractive', 'CUDNN_VERSION': '7.6.5.32', 'LAST_FORCED_REBUILD': '20191217', 'JPY_PARENT_PID': '20', 'PYTHONPATH': '/env/python', 'DATALAB_SETTINGS_OVERRIDES': '{\"kernelManagerProxyPort\":6000,\"kernelManagerProxyHost\":\"172.28.0.3\",\"jupyterArgs\":[\"--ip=\\\\\"172.28.0.2\\\\\"\"]}', 'NO_GCE_CHECK': 'True', 'GLIBCXX_FORCE_NEW': '1', 'NVIDIA_DRIVER_CAPABILITIES': 'compute,utility', '_': '/tools/node/bin/node', 'LD_PRELOAD': '/usr/lib/x86_64-linux-gnu/libtcmalloc.so.4', 'NVIDIA_REQUIRE_CUDA': 'cuda>=10.1 brand=tesla,driver>=384,driver<385 brand=tesla,driver>=396,driver<397 brand=tesla,driver>=410,driver<411', 'OLDPWD': '/', 'HOSTNAME': '6b9ca4b054d4', 'COLAB_GPU': '0', 'PWD': '/', 'GLIBCPP_FORCE_NEW': '1', 'PYTHONWARNINGS': 'ignore:::pip._internal.cli.base_command', 'TBE_CREDS_ADDR': '172.28.0.1:8008', 'TERM': 'xterm-color', 'CLICOLOR': '1', 'PAGER': 'cat', 'GIT_PAGER': 'cat', 'MPLBACKEND': 'module://ipykernel.pylab.backend_inline'})\n",
            "*----------------------------------*\n",
            "/root\n",
            "*----------------------------------*\n",
            "/usr/local/nvidia/bin:/usr/local/cuda/bin:/usr/local/sbin:/usr/local/bin:/usr/sbin:/usr/bin:/sbin:/bin:/tools/node/bin:/tools/google-cloud-sdk/bin:/opt/bin\n",
            "*----------------------------------*\n"
          ],
          "name": "stdout"
        }
      ]
    },
    {
      "cell_type": "markdown",
      "metadata": {
        "id": "pg_DHtkeiGNg",
        "colab_type": "text"
      },
      "source": [
        "54. Write a Python program to get the current username "
      ]
    },
    {
      "cell_type": "code",
      "metadata": {
        "id": "Z9iXco4dhI8Q",
        "colab_type": "code",
        "outputId": "4f2a1b2e-44d9-4921-e7ab-28be13a8c4f9",
        "colab": {
          "base_uri": "https://localhost:8080/",
          "height": 34
        }
      },
      "source": [
        "import getpass\n",
        "print(getpass.getuser())"
      ],
      "execution_count": 0,
      "outputs": [
        {
          "output_type": "stream",
          "text": [
            "root\n"
          ],
          "name": "stdout"
        }
      ]
    },
    {
      "cell_type": "markdown",
      "metadata": {
        "id": "MUl2Us59iQoP",
        "colab_type": "text"
      },
      "source": [
        "55. Write a Python to find local IP addresses using Python's stdlib "
      ]
    },
    {
      "cell_type": "code",
      "metadata": {
        "id": "zfwLLvkViLDR",
        "colab_type": "code",
        "outputId": "79729c25-c7bc-4711-d3fb-6aadf82f8686",
        "colab": {
          "base_uri": "https://localhost:8080/",
          "height": 50
        }
      },
      "source": [
        "import socket\n",
        "print([l for l in ([ip for ip in socket.gethostbyname_ex(socket.gethostname())[2] \n",
        "if not ip.startswith(\"127.\")][:1], [[(s.connect(('8.8.8.8', 53)), \n",
        "s.getsockname()[0], s.close()) for s in [socket.socket(socket.AF_INET, \n",
        "socket.SOCK_DGRAM)]][0][1]]) if l][0][0])\n",
        "\n",
        "socket.gethostname()\n"
      ],
      "execution_count": 0,
      "outputs": [
        {
          "output_type": "stream",
          "text": [
            "172.28.0.2\n"
          ],
          "name": "stdout"
        },
        {
          "output_type": "execute_result",
          "data": {
            "text/plain": [
              "'6b9ca4b054d4'"
            ]
          },
          "metadata": {
            "tags": []
          },
          "execution_count": 41
        }
      ]
    },
    {
      "cell_type": "markdown",
      "metadata": {
        "id": "9lLy0hw5irjh",
        "colab_type": "text"
      },
      "source": [
        "56. Write a Python program to get height and width of the console window. "
      ]
    },
    {
      "cell_type": "code",
      "metadata": {
        "id": "eBt5pwBSiZ6q",
        "colab_type": "code",
        "outputId": "61185ba0-118a-4cc4-afef-ff98a207869e",
        "colab": {
          "base_uri": "https://localhost:8080/",
          "height": 195
        }
      },
      "source": [
        "def terminal_size():\n",
        "    import fcntl, termios, struct\n",
        "    th, tw, hp, wp = struct.unpack('HHHH',\n",
        "        fcntl.ioctl(0, termios.TIOCGWINSZ,\n",
        "        struct.pack('HHHH', 0, 0, 0, 0)))\n",
        "    return tw, th\n",
        "\n",
        "##print('Number of columns and Rows: ',terminal_size())\n",
        "import os\n",
        "os.get_terminal_size()"
      ],
      "execution_count": 0,
      "outputs": [
        {
          "output_type": "error",
          "ename": "OSError",
          "evalue": "ignored",
          "traceback": [
            "\u001b[0;31m---------------------------------------------------------------------------\u001b[0m",
            "\u001b[0;31mOSError\u001b[0m                                   Traceback (most recent call last)",
            "\u001b[0;32m<ipython-input-48-b2cd0c2640ec>\u001b[0m in \u001b[0;36m<module>\u001b[0;34m()\u001b[0m\n\u001b[1;32m      8\u001b[0m \u001b[0;31m##print('Number of columns and Rows: ',terminal_size())\u001b[0m\u001b[0;34m\u001b[0m\u001b[0;34m\u001b[0m\u001b[0;34m\u001b[0m\u001b[0m\n\u001b[1;32m      9\u001b[0m \u001b[0;32mimport\u001b[0m \u001b[0mos\u001b[0m\u001b[0;34m\u001b[0m\u001b[0;34m\u001b[0m\u001b[0m\n\u001b[0;32m---> 10\u001b[0;31m \u001b[0mos\u001b[0m\u001b[0;34m.\u001b[0m\u001b[0mget_terminal_size\u001b[0m\u001b[0;34m(\u001b[0m\u001b[0;34m)\u001b[0m\u001b[0;34m\u001b[0m\u001b[0;34m\u001b[0m\u001b[0m\n\u001b[0m",
            "\u001b[0;31mOSError\u001b[0m: [Errno 25] Inappropriate ioctl for device"
          ]
        }
      ]
    },
    {
      "cell_type": "markdown",
      "metadata": {
        "id": "vOM2Bi7ym2Fb",
        "colab_type": "text"
      },
      "source": [
        "57. Write a program to get execution time for a Python method."
      ]
    },
    {
      "cell_type": "code",
      "metadata": {
        "id": "0C4TMU4JixHO",
        "colab_type": "code",
        "outputId": "253c878c-4bda-45f4-ff9f-70edbb65604e",
        "colab": {
          "base_uri": "https://localhost:8080/",
          "height": 50
        }
      },
      "source": [
        "import time\n",
        "def sum_of_n_numbers(n):\n",
        "    start_time = time.time()\n",
        "    s = 0\n",
        "    for i in range(1,n+1):\n",
        "        s = s + i\n",
        "    end_time = time.time()\n",
        "    return s,end_time-start_time\n",
        "\n",
        "n = 5\n",
        "print(\"\\nTime to sum of 1 to \",n,\" and required time to calculate is :\",sum_of_n_numbers(n))\n"
      ],
      "execution_count": 0,
      "outputs": [
        {
          "output_type": "stream",
          "text": [
            "\n",
            "Time to sum of 1 to  5  and required time to calculate is : (15, 2.1457672119140625e-06)\n"
          ],
          "name": "stdout"
        }
      ]
    },
    {
      "cell_type": "markdown",
      "metadata": {
        "id": "JDJoaTgvnL4v",
        "colab_type": "text"
      },
      "source": [
        "58. Write a python program to sum of the first n positive integers."
      ]
    },
    {
      "cell_type": "code",
      "metadata": {
        "id": "I0boGtQmnAtO",
        "colab_type": "code",
        "outputId": "096f9c6c-3cb5-4433-942a-0dda019b3b78",
        "colab": {
          "base_uri": "https://localhost:8080/",
          "height": 50
        }
      },
      "source": [
        "def sum_five(n) :\n",
        "  nsum = 0\n",
        "  for  i in range(1,n+1)  :\n",
        "     nsum = nsum + i\n",
        "     \n",
        "  return(nsum)\n",
        "\n",
        "\n",
        "n = int(input(\"n\"))\n",
        "print(\"sum is\",sum_five(n))"
      ],
      "execution_count": 0,
      "outputs": [
        {
          "output_type": "stream",
          "text": [
            "n8\n",
            "sum is 36\n"
          ],
          "name": "stdout"
        }
      ]
    },
    {
      "cell_type": "markdown",
      "metadata": {
        "id": "l3B6Tiy2tLhM",
        "colab_type": "text"
      },
      "source": [
        "59. Write a Python program to convert height (in feet and inches) to centimeters. "
      ]
    },
    {
      "cell_type": "code",
      "metadata": {
        "id": "RSWVctoCn_Lv",
        "colab_type": "code",
        "outputId": "831eb64e-d9ef-4bbc-c357-4e2c7539e689",
        "colab": {
          "base_uri": "https://localhost:8080/",
          "height": 84
        }
      },
      "source": [
        "print(\"Input your height: \")\n",
        "hinft = int(input(\"Feet: \"))\n",
        "hininch = int(input(\"Inches: \"))\n",
        "\n",
        "hininch += hinft * 12\n",
        "hcm = round(hininch * 2.54, 1)\n",
        "\n",
        "print(\"Your height is : %d cm.\" % hcm)"
      ],
      "execution_count": 0,
      "outputs": [
        {
          "output_type": "stream",
          "text": [
            "Input your height: \n",
            "Feet: 5\n",
            "Inches: 2\n",
            "Your height is : 157 cm.\n"
          ],
          "name": "stdout"
        }
      ]
    },
    {
      "cell_type": "markdown",
      "metadata": {
        "id": "d5ym8d9btyKo",
        "colab_type": "text"
      },
      "source": [
        "60. Write a Python program to calculate the hypotenuse of a right angled triangle."
      ]
    },
    {
      "cell_type": "code",
      "metadata": {
        "id": "BXVNS_vAtuD6",
        "colab_type": "code",
        "outputId": "b3cd9712-0646-4854-a7bf-677564846485",
        "colab": {
          "base_uri": "https://localhost:8080/",
          "height": 84
        }
      },
      "source": [
        "from math import sqrt\n",
        "print(\"Input lengths of shorter triangle sides:\")\n",
        "a = float(input(\"a: \"))\n",
        "b = float(input(\"b: \"))\n",
        "\n",
        "c = sqrt(a**2 + b**2)\n",
        "print(\"The length of the hypotenuse is\", round(c,2) )\n"
      ],
      "execution_count": 0,
      "outputs": [
        {
          "output_type": "stream",
          "text": [
            "Input lengths of shorter triangle sides:\n",
            "a: 5\n",
            "b: 6\n",
            "The length of the hypotenuse is 7.81\n"
          ],
          "name": "stdout"
        }
      ]
    },
    {
      "cell_type": "markdown",
      "metadata": {
        "id": "BHKoWJsIGHP9",
        "colab_type": "text"
      },
      "source": [
        "61. Write a Python program to convert the distance (in feet) to inches, yards, and miles."
      ]
    },
    {
      "cell_type": "code",
      "metadata": {
        "id": "NugXu6m4uAwF",
        "colab_type": "code",
        "outputId": "4b6d79fa-f8c9-4b25-acf9-ee4e6ac185e6",
        "colab": {
          "base_uri": "https://localhost:8080/",
          "height": 90
        }
      },
      "source": [
        "def fun_inch(d_ft) :\n",
        "    d_inches = d_ft * 12\n",
        "    return(d_inches)\n",
        "\n",
        "def fun_yards(d_ft) :\n",
        "    d_yards = d_ft / 3.0\n",
        "    return(round(d_yards,2))\n",
        "    \n",
        "def fun_miles(d_ft) :\n",
        "    d_miles = d_ft / 5280\n",
        "    return(round(d_miles,2))\n",
        "    \n",
        "\n",
        "d_ft = int(input(\"Input distance in feet: \"))\n",
        "\n",
        "print(\"The distance in inches is %i inches.\",fun_inch(d_ft))\n",
        "print(\"The distance in yards is %.2f yards.\",fun_yards(d_ft))\n",
        "print(\"The distance in miles is %.2f miles.\",fun_miles(d_ft))\n",
        "\n"
      ],
      "execution_count": 0,
      "outputs": [
        {
          "output_type": "stream",
          "text": [
            "Input distance in feet: 100\n",
            "The distance in inches is %i inches. 1200\n",
            "The distance in yards is %.2f yards. 33.33\n",
            "The distance in miles is %.2f miles. 0.02\n"
          ],
          "name": "stdout"
        }
      ]
    },
    {
      "cell_type": "code",
      "metadata": {
        "id": "O-l2fLSGGw8d",
        "colab_type": "code",
        "colab": {}
      },
      "source": [
        ""
      ],
      "execution_count": 0,
      "outputs": []
    }
  ]
}