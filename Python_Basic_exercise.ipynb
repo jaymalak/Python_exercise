{
  "nbformat": 4,
  "nbformat_minor": 0,
  "metadata": {
    "colab": {
      "name": "Python_Basic_exercise.ipynb",
      "provenance": [],
      "collapsed_sections": []
    },
    "kernelspec": {
      "name": "python3",
      "display_name": "Python 3"
    }
  },
  "cells": [
    {
      "cell_type": "markdown",
      "metadata": {
        "id": "4r4Aa03BBRzT",
        "colab_type": "text"
      },
      "source": [
        "INTRODUCTION -PYTHON Basic Part I Exercise. Thanks to https://www.w3resource.com/python-exercises/python-basic-exercises.php"
      ]
    },
    {
      "cell_type": "markdown",
      "metadata": {
        "id": "vsP8gE_5I7Dx",
        "colab_type": "text"
      },
      "source": [
        "Print Twinkle Twinkle Poem"
      ]
    },
    {
      "cell_type": "code",
      "metadata": {
        "id": "CjfZi3x7AuwE",
        "colab_type": "code",
        "outputId": "e7461d1e-3427-44eb-c6e5-260b0390a765",
        "colab": {
          "base_uri": "https://localhost:8080/",
          "height": 118
        }
      },
      "source": [
        "print(\"Twinkle, twinkle, little star, \\n\\t\\tHow I wonder what you are! \\n\\t\\tUp above the world so high, \\n\\t\\tLike a diamond in the sky. \\nTwinkle, twinkle, little star, \\n\\t\\tHow I wonder what you are!\")"
      ],
      "execution_count": 0,
      "outputs": [
        {
          "output_type": "stream",
          "text": [
            "Twinkle, twinkle, little star, \n",
            "\t\tHow I wonder what you are! \n",
            "\t\tUp above the world so high, \n",
            "\t\tLike a diamond in the sky. \n",
            "Twinkle, twinkle, little star, \n",
            "\t\tHow I wonder what you are!\n"
          ],
          "name": "stdout"
        }
      ]
    },
    {
      "cell_type": "markdown",
      "metadata": {
        "id": "TtdGbWqFJLeC",
        "colab_type": "text"
      },
      "source": [
        "Print Python version and Version Information"
      ]
    },
    {
      "cell_type": "code",
      "metadata": {
        "id": "J63PUFS9BQ2O",
        "colab_type": "code",
        "outputId": "8f7bdb51-96bb-4c81-d872-6c55b23cfa60",
        "colab": {
          "base_uri": "https://localhost:8080/",
          "height": 50
        }
      },
      "source": [
        "import sys\n",
        "print(\"Version & Version Information  :\", sys.version, sys.version_info )"
      ],
      "execution_count": 0,
      "outputs": [
        {
          "output_type": "stream",
          "text": [
            "Version & Version Information  : 3.6.8 (default, Oct  7 2019, 12:59:55) \n",
            "[GCC 8.3.0] sys.version_info(major=3, minor=6, micro=8, releaselevel='final', serial=0)\n"
          ],
          "name": "stdout"
        }
      ]
    },
    {
      "cell_type": "markdown",
      "metadata": {
        "id": "nKmhMPaPJXSu",
        "colab_type": "text"
      },
      "source": [
        "Print Current Date and Time"
      ]
    },
    {
      "cell_type": "code",
      "metadata": {
        "id": "3kp6--k1BkJq",
        "colab_type": "code",
        "outputId": "58825787-18ba-42ba-8c09-8ac755429bf4",
        "colab": {
          "base_uri": "https://localhost:8080/",
          "height": 50
        }
      },
      "source": [
        "import datetime\n",
        "print(datetime.datetime.now())\n",
        "print(datetime.datetime.now().strftime(\"%Y-%m-%d %H:%M:%S\"))"
      ],
      "execution_count": 0,
      "outputs": [
        {
          "output_type": "stream",
          "text": [
            "2019-12-02 05:35:04.303360\n",
            "2019-12-02 05:35:04\n"
          ],
          "name": "stdout"
        }
      ]
    },
    {
      "cell_type": "code",
      "metadata": {
        "id": "O5wb8s37GNSa",
        "colab_type": "code",
        "outputId": "194867d1-321c-4207-87f8-2cdaa367f994",
        "colab": {
          "base_uri": "https://localhost:8080/",
          "height": 50
        }
      },
      "source": [
        "from math import pi\n",
        "r = float(input(\"Enter Radius : \"))\n",
        "area = round(pi * r ** 2)\n",
        "print(\"Area is :\",area)"
      ],
      "execution_count": 0,
      "outputs": [
        {
          "output_type": "stream",
          "text": [
            "Enter Radius : 5\n",
            "Area is : 79\n"
          ],
          "name": "stdout"
        }
      ]
    },
    {
      "cell_type": "markdown",
      "metadata": {
        "id": "q9jsnUleLNK4",
        "colab_type": "text"
      },
      "source": [
        "Write a Python program which accepts the user's first and last name and print them in reverse order with a space between them."
      ]
    },
    {
      "cell_type": "code",
      "metadata": {
        "id": "3yEmFur8Jj5x",
        "colab_type": "code",
        "outputId": "bf1bf774-4740-4525-837d-1c3d5348fcba",
        "colab": {
          "base_uri": "https://localhost:8080/",
          "height": 67
        }
      },
      "source": [
        "fname = input(\"Enter First Name : \")\n",
        "lname = input(\"Enter Last Name  : \")\n",
        "print(lname,\"\", fname)\n"
      ],
      "execution_count": 0,
      "outputs": [
        {
          "output_type": "stream",
          "text": [
            "Enter First Name : Jaymala\n",
            "Enter Last Name  : Kanagala\n",
            "Kanagala  Jaymala\n"
          ],
          "name": "stdout"
        }
      ]
    },
    {
      "cell_type": "markdown",
      "metadata": {
        "id": "dQPU9owSMNth",
        "colab_type": "text"
      },
      "source": [
        "Write a Python program which accepts a sequence of comma-separated numbers from user and generate a list and a tuple with those numbers"
      ]
    },
    {
      "cell_type": "code",
      "metadata": {
        "id": "znRW0ZAILOK9",
        "colab_type": "code",
        "outputId": "ad9e452f-ef6d-4203-f11d-92b51166da99",
        "colab": {
          "base_uri": "https://localhost:8080/",
          "height": 67
        }
      },
      "source": [
        "csvnum = input(\"Enter few number with comma separation  : \")\n",
        "clist = csvnum.split(\",\")\n",
        "print(\"List : \", clist)\n",
        "print(\"Tuple : \", tuple(clist))"
      ],
      "execution_count": 0,
      "outputs": [
        {
          "output_type": "stream",
          "text": [
            "Enter few number with comma separation  : 3,5,7,10,12,56.98\n",
            "List :  ['3', '5', '7', '10', '12', '56.98']\n",
            "Tuple :  ('3', '5', '7', '10', '12', '56.98')\n"
          ],
          "name": "stdout"
        }
      ]
    },
    {
      "cell_type": "markdown",
      "metadata": {
        "id": "NbfHBiXWSFLf",
        "colab_type": "text"
      },
      "source": [
        "Write a Python program to accept a filename from the user and print the extension of that"
      ]
    },
    {
      "cell_type": "code",
      "metadata": {
        "id": "YE4-U1ybQ2el",
        "colab_type": "code",
        "outputId": "5efb8699-7362-4238-b9f7-daeeb7d0ab01",
        "colab": {
          "base_uri": "https://localhost:8080/",
          "height": 50
        }
      },
      "source": [
        "filename = input(\"Enter filename with extension\")\n",
        "print(\"Extension of entered file is : \", (filename.split(\".\")[-1]))"
      ],
      "execution_count": 0,
      "outputs": [
        {
          "output_type": "stream",
          "text": [
            "Enter filename with extensionabc.java\n",
            "Extension of entered file is :  java\n"
          ],
          "name": "stdout"
        }
      ]
    },
    {
      "cell_type": "markdown",
      "metadata": {
        "id": "-hFS3d16TvbF",
        "colab_type": "text"
      },
      "source": [
        "Write a Python program to display the first and last colors from the following list. color_list = [\"Red\",\"Green\",\"White\" ,\"Black\"]"
      ]
    },
    {
      "cell_type": "code",
      "metadata": {
        "id": "jSeeSQ7USthV",
        "colab_type": "code",
        "outputId": "b0e39ab5-933f-4c66-842d-bd51587caeca",
        "colab": {
          "base_uri": "https://localhost:8080/",
          "height": 34
        }
      },
      "source": [
        "color_list = [\"Red\",\"Green\",\"White\" ,\"Black\"]\n",
        "print(color_list[0], color_list[-1])"
      ],
      "execution_count": 0,
      "outputs": [
        {
          "output_type": "stream",
          "text": [
            "Red Black\n"
          ],
          "name": "stdout"
        }
      ]
    },
    {
      "cell_type": "markdown",
      "metadata": {
        "id": "6pnJp7q8VsCV",
        "colab_type": "text"
      },
      "source": [
        "Write a Python program to display the examination schedule. (extract the date from exam_st_date)"
      ]
    },
    {
      "cell_type": "code",
      "metadata": {
        "id": "rBrVz9LTVWLt",
        "colab_type": "code",
        "outputId": "9b0c786a-0369-4e83-d473-1eca1b0088aa",
        "colab": {
          "base_uri": "https://localhost:8080/",
          "height": 34
        }
      },
      "source": [
        "exam_st_date = (11, 12, 2014)\n",
        "print(\"Exam will start from : %i / %i / %i\"%exam_st_date)"
      ],
      "execution_count": 0,
      "outputs": [
        {
          "output_type": "stream",
          "text": [
            "Exam will start from : 11 / 12 / 2014\n"
          ],
          "name": "stdout"
        }
      ]
    },
    {
      "cell_type": "markdown",
      "metadata": {
        "id": "tXs1DNWnWuxV",
        "colab_type": "text"
      },
      "source": [
        "Write a Python program that accepts an integer (n) and computes the value of n+nn+nnn."
      ]
    },
    {
      "cell_type": "code",
      "metadata": {
        "id": "KndJyTZIVstH",
        "colab_type": "code",
        "outputId": "34889ba5-8e79-4cd8-989b-9e76885e30dd",
        "colab": {
          "base_uri": "https://localhost:8080/",
          "height": 50
        }
      },
      "source": [
        "n = int(input(\"Enter number :\"))\n",
        "n1 = int(\"%s%s\" %(n,n))\n",
        "n2 = int(\"%s%s%s\" %(n,n,n))\n",
        "print(\"Value :\", n+n1+n2)"
      ],
      "execution_count": 0,
      "outputs": [
        {
          "output_type": "stream",
          "text": [
            "Enter number :5\n",
            "Value : 615\n"
          ],
          "name": "stdout"
        }
      ]
    },
    {
      "cell_type": "markdown",
      "metadata": {
        "id": "caaRx3gd_nqq",
        "colab_type": "text"
      },
      "source": [
        "Write a Python program to print the documents (syntax, description etc.) of Python built-in function(s)"
      ]
    },
    {
      "cell_type": "code",
      "metadata": {
        "id": "tJLxet7cXE57",
        "colab_type": "code",
        "outputId": "2e670058-986e-49fb-ebfe-e7b3a7a1fb9f",
        "colab": {
          "base_uri": "https://localhost:8080/",
          "height": 34
        }
      },
      "source": [
        "print(abs.__doc__)"
      ],
      "execution_count": 0,
      "outputs": [
        {
          "output_type": "stream",
          "text": [
            "Return the absolute value of the argument.\n"
          ],
          "name": "stdout"
        }
      ]
    },
    {
      "cell_type": "markdown",
      "metadata": {
        "id": "vVQxrx9jAmI9",
        "colab_type": "text"
      },
      "source": [
        "Write a Python program to print the calendar of a given month and year."
      ]
    },
    {
      "cell_type": "code",
      "metadata": {
        "id": "-sKEgvl9ASzg",
        "colab_type": "code",
        "outputId": "71d371e7-b3cf-450f-c044-a95cfcf7cc28",
        "colab": {
          "base_uri": "https://localhost:8080/",
          "height": 202
        }
      },
      "source": [
        "import calendar\n",
        "mmonth=int(input(\"Enter Month :\"))\n",
        "yyear = int(input(\"Enter Year : \"))\n",
        "print(calendar.month(yyear,mmonth))"
      ],
      "execution_count": 0,
      "outputs": [
        {
          "output_type": "stream",
          "text": [
            "Enter Month :12\n",
            "Enter Year : 2019\n",
            "   December 2019\n",
            "Mo Tu We Th Fr Sa Su\n",
            "                   1\n",
            " 2  3  4  5  6  7  8\n",
            " 9 10 11 12 13 14 15\n",
            "16 17 18 19 20 21 22\n",
            "23 24 25 26 27 28 29\n",
            "30 31\n",
            "\n"
          ],
          "name": "stdout"
        }
      ]
    },
    {
      "cell_type": "code",
      "metadata": {
        "id": "R0rcvsfXAtXo",
        "colab_type": "code",
        "colab": {}
      },
      "source": [
        ""
      ],
      "execution_count": 0,
      "outputs": []
    }
  ]
}